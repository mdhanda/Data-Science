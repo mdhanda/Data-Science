{
 "cells": [
  {
   "cell_type": "code",
   "execution_count": 2,
   "id": "b94b18cc",
   "metadata": {},
   "outputs": [],
   "source": [
    "# 1. Write a Python program to print \"Hello Python\"?"
   ]
  },
  {
   "cell_type": "code",
   "execution_count": 3,
   "id": "e355d86a",
   "metadata": {},
   "outputs": [
    {
     "name": "stdout",
     "output_type": "stream",
     "text": [
      "Hello Python\n"
     ]
    }
   ],
   "source": [
    "print(\"Hello Python\")"
   ]
  },
  {
   "cell_type": "code",
   "execution_count": null,
   "id": "6b685f58",
   "metadata": {},
   "outputs": [],
   "source": [
    "# 2. Write a Python program to do arithmetical operations addition and division.?"
   ]
  },
  {
   "cell_type": "code",
   "execution_count": 4,
   "id": "ece62656",
   "metadata": {},
   "outputs": [
    {
     "name": "stdout",
     "output_type": "stream",
     "text": [
      "8\n",
      "3.0\n"
     ]
    }
   ],
   "source": [
    "def addition(x, y):\n",
    "    return x+y\n",
    "\n",
    "def division(x, y):\n",
    "    return x/y\n",
    "\n",
    "print(addition(3,5))\n",
    "print(division(15,5))"
   ]
  },
  {
   "cell_type": "code",
   "execution_count": null,
   "id": "d6721b62",
   "metadata": {},
   "outputs": [],
   "source": [
    "# 3. Write a Python program to find the area of a triangle?"
   ]
  },
  {
   "cell_type": "code",
   "execution_count": 6,
   "id": "8bfc4006",
   "metadata": {},
   "outputs": [
    {
     "name": "stdout",
     "output_type": "stream",
     "text": [
      "The area of triangle is 9.92\n"
     ]
    }
   ],
   "source": [
    "# s = (a+b+c)/2\n",
    "# area = √(s(s-a)*(s-b)*(s-c))\n",
    "a = 4\n",
    "b = 5\n",
    "c = 6\n",
    "\n",
    "s = (a+b+c)/2\n",
    "area = (s*(s-a)*(s-b)*(s-c)) ** 0.5  # sqrt = number ** 0.5\n",
    "    \n",
    "print(\"The area of triangle is %0.2f\" %area)\n",
    "    "
   ]
  },
  {
   "cell_type": "code",
   "execution_count": null,
   "id": "099a3872",
   "metadata": {},
   "outputs": [],
   "source": [
    "# 4. Write a Python program to swap two variables?"
   ]
  },
  {
   "cell_type": "code",
   "execution_count": 7,
   "id": "4dcd185c",
   "metadata": {},
   "outputs": [
    {
     "name": "stdout",
     "output_type": "stream",
     "text": [
      "x = 10\n",
      "y = 5\n"
     ]
    }
   ],
   "source": [
    "x = 5\n",
    "y = 10\n",
    "\n",
    "x, y = y, x\n",
    "print(\"x =\", x)\n",
    "print(\"y =\", y)"
   ]
  },
  {
   "cell_type": "code",
   "execution_count": null,
   "id": "8b6153e9",
   "metadata": {},
   "outputs": [],
   "source": [
    "# 5. Write a Python program to generate a random number?"
   ]
  },
  {
   "cell_type": "code",
   "execution_count": 8,
   "id": "777e724c",
   "metadata": {},
   "outputs": [
    {
     "name": "stdout",
     "output_type": "stream",
     "text": [
      "8\n",
      "0.35737828903555946\n"
     ]
    }
   ],
   "source": [
    "import random\n",
    "\n",
    "print(random.randint(0,9))\n",
    "print(random.random())"
   ]
  },
  {
   "cell_type": "code",
   "execution_count": null,
   "id": "3f8b6008",
   "metadata": {},
   "outputs": [],
   "source": []
  }
 ],
 "metadata": {
  "kernelspec": {
   "display_name": "Python 3 (ipykernel)",
   "language": "python",
   "name": "python3"
  },
  "language_info": {
   "codemirror_mode": {
    "name": "ipython",
    "version": 3
   },
   "file_extension": ".py",
   "mimetype": "text/x-python",
   "name": "python",
   "nbconvert_exporter": "python",
   "pygments_lexer": "ipython3",
   "version": "3.9.7"
  }
 },
 "nbformat": 4,
 "nbformat_minor": 5
}
