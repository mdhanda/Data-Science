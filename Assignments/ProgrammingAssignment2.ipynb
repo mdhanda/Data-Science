{
 "cells": [
  {
   "cell_type": "code",
   "execution_count": 2,
   "id": "b94b18cc",
   "metadata": {},
   "outputs": [],
   "source": [
    "# 1. Write a Python program to convert kilometers to miles?"
   ]
  },
  {
   "cell_type": "code",
   "execution_count": 2,
   "id": "e355d86a",
   "metadata": {},
   "outputs": [
    {
     "name": "stdout",
     "output_type": "stream",
     "text": [
      "25.00 kms is equal to 15.53 miles\n"
     ]
    }
   ],
   "source": [
    "# conversion factor\n",
    "conv_fac = 0.621371\n",
    "\n",
    "kms = 25\n",
    "\n",
    "miles = kms * conv_fac\n",
    "print('%0.2f kms is equal to %0.2f miles' %(kms,miles))"
   ]
  },
  {
   "cell_type": "code",
   "execution_count": null,
   "id": "6b685f58",
   "metadata": {},
   "outputs": [],
   "source": [
    "# 2. Write a Python program to convert Celsius to Fahrenheit?"
   ]
  },
  {
   "cell_type": "code",
   "execution_count": 3,
   "id": "ece62656",
   "metadata": {},
   "outputs": [
    {
     "name": "stdout",
     "output_type": "stream",
     "text": [
      "18.00 celsius is equal to 64.40 fahrenheit\n"
     ]
    }
   ],
   "source": [
    "# conversion factor\n",
    "# fahrenheit = celsius * 1.8 + 32\n",
    "\n",
    "celsius = 18\n",
    "fahrenheit = celsius * 1.8 + 32\n",
    "\n",
    "print('%0.2f celsius is equal to %0.2f fahrenheit' %(celsius, fahrenheit))"
   ]
  },
  {
   "cell_type": "code",
   "execution_count": null,
   "id": "d6721b62",
   "metadata": {},
   "outputs": [],
   "source": [
    "# 3. Write a Python program to display calendar?"
   ]
  },
  {
   "cell_type": "code",
   "execution_count": 4,
   "id": "8bfc4006",
   "metadata": {},
   "outputs": [
    {
     "name": "stdout",
     "output_type": "stream",
     "text": [
      "   February 2022\n",
      "Mo Tu We Th Fr Sa Su\n",
      "    1  2  3  4  5  6\n",
      " 7  8  9 10 11 12 13\n",
      "14 15 16 17 18 19 20\n",
      "21 22 23 24 25 26 27\n",
      "28\n",
      "\n"
     ]
    }
   ],
   "source": [
    "import calendar\n",
    "\n",
    "yy = 2022  # year\n",
    "mm = 2    # month\n",
    "\n",
    "print(calendar.month(yy, mm))"
   ]
  },
  {
   "cell_type": "code",
   "execution_count": null,
   "id": "099a3872",
   "metadata": {},
   "outputs": [],
   "source": [
    "# 4. Write a Python program to solve quadratic equation?"
   ]
  },
  {
   "cell_type": "code",
   "execution_count": 14,
   "id": "4dcd185c",
   "metadata": {},
   "outputs": [
    {
     "name": "stdout",
     "output_type": "stream",
     "text": [
      "The solution are (-3+0j) and (-2+0j)\n"
     ]
    }
   ],
   "source": [
    "# The standard form of a quadratic equation is:\n",
    "# ax2 + bx + c = 0, where\n",
    "# a, b and c are real numbers and\n",
    "# a ≠ 0\n",
    "\n",
    "# The solutions of this quadratic equation is given by:\n",
    "# (-b ± (b ** 2 - 4 * a * c) ** 0.5) / (2 * a)\n",
    "\n",
    "\n",
    "# import complex math module\n",
    "import cmath\n",
    "\n",
    "a = 1\n",
    "b = 5\n",
    "c = 6\n",
    "\n",
    "# calculate the discriminant\n",
    "d = (b**2) - (4*a*c)\n",
    "\n",
    "# find two solutions\n",
    "sol1 = (-b-cmath.sqrt(d))/(2*a)\n",
    "sol2 = (-b+cmath.sqrt(d))/(2*a)\n",
    "\n",
    "print('The solution are {0} and {1}'.format(sol1,sol2))"
   ]
  },
  {
   "cell_type": "code",
   "execution_count": null,
   "id": "8b6153e9",
   "metadata": {},
   "outputs": [],
   "source": [
    "# 5. Write a Python program to swap two variables without temp variable?"
   ]
  },
  {
   "cell_type": "code",
   "execution_count": 1,
   "id": "777e724c",
   "metadata": {},
   "outputs": [
    {
     "name": "stdout",
     "output_type": "stream",
     "text": [
      "x = 10\n",
      "y = 5\n"
     ]
    }
   ],
   "source": [
    "x = 5\n",
    "y = 10\n",
    "\n",
    "x, y = y, x\n",
    "print(\"x =\", x)\n",
    "print(\"y =\", y)"
   ]
  },
  {
   "cell_type": "code",
   "execution_count": null,
   "id": "3f8b6008",
   "metadata": {},
   "outputs": [],
   "source": []
  }
 ],
 "metadata": {
  "kernelspec": {
   "display_name": "Python 3 (ipykernel)",
   "language": "python",
   "name": "python3"
  },
  "language_info": {
   "codemirror_mode": {
    "name": "ipython",
    "version": 3
   },
   "file_extension": ".py",
   "mimetype": "text/x-python",
   "name": "python",
   "nbconvert_exporter": "python",
   "pygments_lexer": "ipython3",
   "version": "3.9.7"
  }
 },
 "nbformat": 4,
 "nbformat_minor": 5
}
