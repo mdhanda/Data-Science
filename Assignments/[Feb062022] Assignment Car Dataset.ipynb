{
 "cells": [
  {
   "cell_type": "code",
   "execution_count": null,
   "id": "a73cd706",
   "metadata": {},
   "outputs": [],
   "source": [
    "1 . take a data set from attached URL https://archive.ics.uci.edu/ml/datasets/Car+Evaluation\n",
    "2 . create a database called as cardataset\n",
    "3 . create a table called as car with a column name given in dataset description\n",
    "4 . Dump all the data into car table \n",
    "5 . try to check weather all the data is aviable inside your table or not \n",
    "6 . try to group all the data with COL1 AND count occurences of each and every record based on col1 value \n",
    "7 . Try to filter a record where col 3 value will be 4 .\n",
    "8.  Try to update a col 3 value with 8 whereever you have value equal to 2 \n",
    "9 . try to delete table \n",
    "10 .Try to delete database"
   ]
  },
  {
   "cell_type": "markdown",
   "id": "1100ac0d",
   "metadata": {},
   "source": [
    "# Create Database cardataset"
   ]
  },
  {
   "cell_type": "code",
   "execution_count": 36,
   "id": "73f2ac21",
   "metadata": {},
   "outputs": [
    {
     "name": "stdout",
     "output_type": "stream",
     "text": [
      "True\n",
      "1007 (HY000): Can't create database 'cardataset'; database exists\n"
     ]
    }
   ],
   "source": [
    "import mysql.connector as connection\n",
    "import csv\n",
    "try:\n",
    "    mydb = connection.connect(host=\"localhost\", user=\"root\", passwd=\"admin\", use_pure=True)\n",
    "    # check if the connection is established\n",
    "    print(mydb.is_connected())\n",
    "    \n",
    "    query = \"CREATE DATABASE cardataset\"\n",
    "    cursor = mydb.cursor() #create a cursor to execute queries\n",
    "    cursor.execute(query)    \n",
    "\n",
    "    mydb.close()\n",
    "    \n",
    "except Exception as e:\n",
    "    mydb.close()\n",
    "    print(str(e))"
   ]
  },
  {
   "cell_type": "markdown",
   "id": "726f003f",
   "metadata": {},
   "source": [
    "# Create Table car"
   ]
  },
  {
   "cell_type": "code",
   "execution_count": 39,
   "id": "55b2f243",
   "metadata": {},
   "outputs": [
    {
     "name": "stdout",
     "output_type": "stream",
     "text": [
      "1050 (42S01): Table 'car' already exists\n"
     ]
    }
   ],
   "source": [
    "import mysql.connector as connection\n",
    "try:\n",
    "    mydb = connection.connect(host=\"localhost\", database=\"cardataset\", user=\"root\", passwd=\"admin\", use_pure=True)\n",
    "    cursor = mydb.cursor() #create a cursor to execute queries\n",
    "\n",
    "    query = \"CREATE TABLE car (buying VARCHAR(50), maint VARCHAR(50), doors VARCHAR(50), persons VARCHAR(50), lug_boot VARCHAR(50), safety VARCHAR(50), class VARCHAR(50))\" \n",
    "    \n",
    "    cursor.execute(query)    \n",
    "    print(\"Table created!!\")\n",
    "    \n",
    "    mydb.close()\n",
    "    \n",
    "except Exception as e:\n",
    "    mydb.close()\n",
    "    print(str(e))"
   ]
  },
  {
   "cell_type": "markdown",
   "id": "a9e9a4aa",
   "metadata": {},
   "source": [
    "# Insert Bulk Data"
   ]
  },
  {
   "cell_type": "code",
   "execution_count": 7,
   "id": "4316ab39",
   "metadata": {},
   "outputs": [],
   "source": [
    "import mysql.connector as connection\n",
    "import csv\n",
    "try:\n",
    "    mydb = connection.connect(host=\"localhost\", database=\"cardataset\", user=\"root\", passwd=\"admin\", use_pure=True)\n",
    "    \n",
    "    cursor = mydb.cursor() #create a cursor to execute queries\n",
    "    \n",
    "    query = \"INSERT INTO car VALUES \" \n",
    "\n",
    "    with open(\"d://DS/SQL/car.data\", 'r') as f :\n",
    "        car_data = csv.reader(f, delimiter='\\n')\n",
    "        \n",
    "        for index,item in enumerate(car_data) :\n",
    "            strQ = '\"'+'\",\"'.join(item[0].split(\",\"))+'\"'\n",
    "\n",
    "            if index != 0 : query += \",\"\n",
    "            #query += \"(\"+item[0]+\")\"\n",
    "            query += \"(\"+strQ+\")\"\n",
    "            \n",
    "    cursor.execute(query)\n",
    "    mydb.commit() # remember to commit, every time, whenever you run INSERT, UPDATE or DELETE like queries.\n",
    "    #print(query)\n",
    "    print(\"Data inserted!!\")\n",
    "    mydb.close()\n",
    "    \n",
    "except Exception as e:\n",
    "    mydb.close()\n",
    "    print(str(e))"
   ]
  },
  {
   "cell_type": "markdown",
   "id": "51bc9d53",
   "metadata": {},
   "source": [
    "# Alternate ways to Insert data"
   ]
  },
  {
   "cell_type": "code",
   "execution_count": null,
   "id": "33b19fbd",
   "metadata": {},
   "outputs": [],
   "source": [
    "# 1 way to insert\n",
    "for i in car_data:\n",
    "        row_data = i[0].split(',') # output row data: ['vhigh', 'vhigh', '2', '2', 'small', 'low', 'unacc']\n",
    "        query = \"INSERT INTO car_db.car VALUES('{}','{}','{}','{}','{}','{}','{}')\".format(str(row_data[0]), str(row_data[1]), str(row_data[2]), str(row_data[3]), str(row_data[4]), str(row_data[5]), str(row_data[6]))\n",
    "        cursor.execute(query)\n",
    "\n",
    "# 2 way to insert [Better option]\n",
    "for i in car_data:\n",
    "        row_data = tuple(i[0].split(','))\n",
    "        query = \"INSERT INTO car_db.car1 VALUES {}\".format(row_data)\n",
    "        cursor.execute(query)"
   ]
  },
  {
   "cell_type": "markdown",
   "id": "7a5f172c",
   "metadata": {},
   "source": [
    "# Grouping "
   ]
  },
  {
   "cell_type": "code",
   "execution_count": 9,
   "id": "eeb9d664",
   "metadata": {},
   "outputs": [
    {
     "name": "stdout",
     "output_type": "stream",
     "text": [
      "[('vhigh', 432), ('high', 432), ('med', 432), ('low', 432)]\n"
     ]
    }
   ],
   "source": [
    "import mysql.connector as connection\n",
    "try:\n",
    "    mydb = connection.connect(host=\"localhost\", database=\"cardataset\", user=\"root\", passwd=\"admin\", use_pure=True)\n",
    "    \n",
    "    cursor = mydb.cursor() #create a cursor to execute queries\n",
    "\n",
    "    query = \"SELECT buying, count(buying) FROM car GROUP BY buying\" \n",
    "    \n",
    "    cursor.execute(query)\n",
    "    result = cursor.fetchall()\n",
    "    print(result)\n",
    "    \n",
    "    mydb.close()\n",
    "    \n",
    "except Exception as e:\n",
    "    mydb.close()\n",
    "    print(str(e))"
   ]
  },
  {
   "cell_type": "markdown",
   "id": "da64f0e0",
   "metadata": {},
   "source": [
    "# Filtering"
   ]
  },
  {
   "cell_type": "code",
   "execution_count": 11,
   "id": "514484ea",
   "metadata": {},
   "outputs": [
    {
     "name": "stdout",
     "output_type": "stream",
     "text": [
      "[(432,)]\n"
     ]
    }
   ],
   "source": [
    "import mysql.connector as connection\n",
    "try:\n",
    "    mydb = connection.connect(host=\"localhost\", database=\"cardataset\", user=\"root\", passwd=\"admin\", use_pure=True)\n",
    "    \n",
    "    cursor = mydb.cursor() #create a cursor to execute queries\n",
    "\n",
    "    query = \"SELECT count(*) FROM car WHERE doors = 4\" \n",
    "    \n",
    "    cursor.execute(query)\n",
    "    result = cursor.fetchall()\n",
    "    print(result)\n",
    "    \n",
    "    mydb.close()\n",
    "    \n",
    "except Exception as e:\n",
    "    mydb.close()\n",
    "    print(str(e))"
   ]
  },
  {
   "cell_type": "markdown",
   "id": "12b5f41b",
   "metadata": {},
   "source": [
    "# Update"
   ]
  },
  {
   "cell_type": "code",
   "execution_count": 13,
   "id": "b9d41306",
   "metadata": {},
   "outputs": [
    {
     "name": "stdout",
     "output_type": "stream",
     "text": [
      "[('vhigh', 'vhigh', '8', '2', 'small', 'low', 'unacc'), ('vhigh', 'vhigh', '8', '2', 'small', 'med', 'unacc'), ('vhigh', 'vhigh', '8', '2', 'small', 'high', 'unacc'), ('vhigh', 'vhigh', '8', '2', 'med', 'low', 'unacc'), ('vhigh', 'vhigh', '8', '2', 'med', 'med', 'unacc'), ('vhigh', 'vhigh', '8', '2', 'med', 'high', 'unacc'), ('vhigh', 'vhigh', '8', '2', 'big', 'low', 'unacc'), ('vhigh', 'vhigh', '8', '2', 'big', 'med', 'unacc'), ('vhigh', 'vhigh', '8', '2', 'big', 'high', 'unacc'), ('vhigh', 'vhigh', '8', '4', 'small', 'low', 'unacc'), ('vhigh', 'vhigh', '8', '4', 'small', 'med', 'unacc'), ('vhigh', 'vhigh', '8', '4', 'small', 'high', 'unacc'), ('vhigh', 'vhigh', '8', '4', 'med', 'low', 'unacc'), ('vhigh', 'vhigh', '8', '4', 'med', 'med', 'unacc'), ('vhigh', 'vhigh', '8', '4', 'med', 'high', 'unacc'), ('vhigh', 'vhigh', '8', '4', 'big', 'low', 'unacc'), ('vhigh', 'vhigh', '8', '4', 'big', 'med', 'unacc'), ('vhigh', 'vhigh', '8', '4', 'big', 'high', 'unacc'), ('vhigh', 'vhigh', '8', 'more', 'small', 'low', 'unacc'), ('vhigh', 'vhigh', '8', 'more', 'small', 'med', 'unacc'), ('vhigh', 'vhigh', '8', 'more', 'small', 'high', 'unacc'), ('vhigh', 'vhigh', '8', 'more', 'med', 'low', 'unacc'), ('vhigh', 'vhigh', '8', 'more', 'med', 'med', 'unacc'), ('vhigh', 'vhigh', '8', 'more', 'med', 'high', 'unacc'), ('vhigh', 'vhigh', '8', 'more', 'big', 'low', 'unacc'), ('vhigh', 'vhigh', '8', 'more', 'big', 'med', 'unacc'), ('vhigh', 'vhigh', '8', 'more', 'big', 'high', 'unacc'), ('vhigh', 'high', '8', '2', 'small', 'low', 'unacc'), ('vhigh', 'high', '8', '2', 'small', 'med', 'unacc'), ('vhigh', 'high', '8', '2', 'small', 'high', 'unacc'), ('vhigh', 'high', '8', '2', 'med', 'low', 'unacc'), ('vhigh', 'high', '8', '2', 'med', 'med', 'unacc'), ('vhigh', 'high', '8', '2', 'med', 'high', 'unacc'), ('vhigh', 'high', '8', '2', 'big', 'low', 'unacc'), ('vhigh', 'high', '8', '2', 'big', 'med', 'unacc'), ('vhigh', 'high', '8', '2', 'big', 'high', 'unacc'), ('vhigh', 'high', '8', '4', 'small', 'low', 'unacc'), ('vhigh', 'high', '8', '4', 'small', 'med', 'unacc'), ('vhigh', 'high', '8', '4', 'small', 'high', 'unacc'), ('vhigh', 'high', '8', '4', 'med', 'low', 'unacc'), ('vhigh', 'high', '8', '4', 'med', 'med', 'unacc'), ('vhigh', 'high', '8', '4', 'med', 'high', 'unacc'), ('vhigh', 'high', '8', '4', 'big', 'low', 'unacc'), ('vhigh', 'high', '8', '4', 'big', 'med', 'unacc'), ('vhigh', 'high', '8', '4', 'big', 'high', 'unacc'), ('vhigh', 'high', '8', 'more', 'small', 'low', 'unacc'), ('vhigh', 'high', '8', 'more', 'small', 'med', 'unacc'), ('vhigh', 'high', '8', 'more', 'small', 'high', 'unacc'), ('vhigh', 'high', '8', 'more', 'med', 'low', 'unacc'), ('vhigh', 'high', '8', 'more', 'med', 'med', 'unacc'), ('vhigh', 'high', '8', 'more', 'med', 'high', 'unacc'), ('vhigh', 'high', '8', 'more', 'big', 'low', 'unacc'), ('vhigh', 'high', '8', 'more', 'big', 'med', 'unacc'), ('vhigh', 'high', '8', 'more', 'big', 'high', 'unacc'), ('vhigh', 'med', '8', '2', 'small', 'low', 'unacc'), ('vhigh', 'med', '8', '2', 'small', 'med', 'unacc'), ('vhigh', 'med', '8', '2', 'small', 'high', 'unacc'), ('vhigh', 'med', '8', '2', 'med', 'low', 'unacc'), ('vhigh', 'med', '8', '2', 'med', 'med', 'unacc'), ('vhigh', 'med', '8', '2', 'med', 'high', 'unacc'), ('vhigh', 'med', '8', '2', 'big', 'low', 'unacc'), ('vhigh', 'med', '8', '2', 'big', 'med', 'unacc'), ('vhigh', 'med', '8', '2', 'big', 'high', 'unacc'), ('vhigh', 'med', '8', '4', 'small', 'low', 'unacc'), ('vhigh', 'med', '8', '4', 'small', 'med', 'unacc'), ('vhigh', 'med', '8', '4', 'small', 'high', 'acc'), ('vhigh', 'med', '8', '4', 'med', 'low', 'unacc'), ('vhigh', 'med', '8', '4', 'med', 'med', 'unacc'), ('vhigh', 'med', '8', '4', 'med', 'high', 'acc'), ('vhigh', 'med', '8', '4', 'big', 'low', 'unacc'), ('vhigh', 'med', '8', '4', 'big', 'med', 'acc'), ('vhigh', 'med', '8', '4', 'big', 'high', 'acc'), ('vhigh', 'med', '8', 'more', 'small', 'low', 'unacc'), ('vhigh', 'med', '8', 'more', 'small', 'med', 'unacc'), ('vhigh', 'med', '8', 'more', 'small', 'high', 'unacc'), ('vhigh', 'med', '8', 'more', 'med', 'low', 'unacc'), ('vhigh', 'med', '8', 'more', 'med', 'med', 'unacc'), ('vhigh', 'med', '8', 'more', 'med', 'high', 'acc'), ('vhigh', 'med', '8', 'more', 'big', 'low', 'unacc'), ('vhigh', 'med', '8', 'more', 'big', 'med', 'acc'), ('vhigh', 'med', '8', 'more', 'big', 'high', 'acc'), ('vhigh', 'low', '8', '2', 'small', 'low', 'unacc'), ('vhigh', 'low', '8', '2', 'small', 'med', 'unacc'), ('vhigh', 'low', '8', '2', 'small', 'high', 'unacc'), ('vhigh', 'low', '8', '2', 'med', 'low', 'unacc'), ('vhigh', 'low', '8', '2', 'med', 'med', 'unacc'), ('vhigh', 'low', '8', '2', 'med', 'high', 'unacc'), ('vhigh', 'low', '8', '2', 'big', 'low', 'unacc'), ('vhigh', 'low', '8', '2', 'big', 'med', 'unacc'), ('vhigh', 'low', '8', '2', 'big', 'high', 'unacc'), ('vhigh', 'low', '8', '4', 'small', 'low', 'unacc'), ('vhigh', 'low', '8', '4', 'small', 'med', 'unacc'), ('vhigh', 'low', '8', '4', 'small', 'high', 'acc'), ('vhigh', 'low', '8', '4', 'med', 'low', 'unacc'), ('vhigh', 'low', '8', '4', 'med', 'med', 'unacc'), ('vhigh', 'low', '8', '4', 'med', 'high', 'acc'), ('vhigh', 'low', '8', '4', 'big', 'low', 'unacc'), ('vhigh', 'low', '8', '4', 'big', 'med', 'acc'), ('vhigh', 'low', '8', '4', 'big', 'high', 'acc'), ('vhigh', 'low', '8', 'more', 'small', 'low', 'unacc'), ('vhigh', 'low', '8', 'more', 'small', 'med', 'unacc'), ('vhigh', 'low', '8', 'more', 'small', 'high', 'unacc'), ('vhigh', 'low', '8', 'more', 'med', 'low', 'unacc'), ('vhigh', 'low', '8', 'more', 'med', 'med', 'unacc'), ('vhigh', 'low', '8', 'more', 'med', 'high', 'acc'), ('vhigh', 'low', '8', 'more', 'big', 'low', 'unacc'), ('vhigh', 'low', '8', 'more', 'big', 'med', 'acc'), ('vhigh', 'low', '8', 'more', 'big', 'high', 'acc'), ('high', 'vhigh', '8', '2', 'small', 'low', 'unacc'), ('high', 'vhigh', '8', '2', 'small', 'med', 'unacc'), ('high', 'vhigh', '8', '2', 'small', 'high', 'unacc'), ('high', 'vhigh', '8', '2', 'med', 'low', 'unacc'), ('high', 'vhigh', '8', '2', 'med', 'med', 'unacc'), ('high', 'vhigh', '8', '2', 'med', 'high', 'unacc'), ('high', 'vhigh', '8', '2', 'big', 'low', 'unacc'), ('high', 'vhigh', '8', '2', 'big', 'med', 'unacc'), ('high', 'vhigh', '8', '2', 'big', 'high', 'unacc'), ('high', 'vhigh', '8', '4', 'small', 'low', 'unacc'), ('high', 'vhigh', '8', '4', 'small', 'med', 'unacc'), ('high', 'vhigh', '8', '4', 'small', 'high', 'unacc'), ('high', 'vhigh', '8', '4', 'med', 'low', 'unacc'), ('high', 'vhigh', '8', '4', 'med', 'med', 'unacc'), ('high', 'vhigh', '8', '4', 'med', 'high', 'unacc'), ('high', 'vhigh', '8', '4', 'big', 'low', 'unacc'), ('high', 'vhigh', '8', '4', 'big', 'med', 'unacc'), ('high', 'vhigh', '8', '4', 'big', 'high', 'unacc'), ('high', 'vhigh', '8', 'more', 'small', 'low', 'unacc'), ('high', 'vhigh', '8', 'more', 'small', 'med', 'unacc'), ('high', 'vhigh', '8', 'more', 'small', 'high', 'unacc'), ('high', 'vhigh', '8', 'more', 'med', 'low', 'unacc'), ('high', 'vhigh', '8', 'more', 'med', 'med', 'unacc'), ('high', 'vhigh', '8', 'more', 'med', 'high', 'unacc'), ('high', 'vhigh', '8', 'more', 'big', 'low', 'unacc'), ('high', 'vhigh', '8', 'more', 'big', 'med', 'unacc'), ('high', 'vhigh', '8', 'more', 'big', 'high', 'unacc'), ('high', 'high', '8', '2', 'small', 'low', 'unacc'), ('high', 'high', '8', '2', 'small', 'med', 'unacc'), ('high', 'high', '8', '2', 'small', 'high', 'unacc'), ('high', 'high', '8', '2', 'med', 'low', 'unacc'), ('high', 'high', '8', '2', 'med', 'med', 'unacc'), ('high', 'high', '8', '2', 'med', 'high', 'unacc'), ('high', 'high', '8', '2', 'big', 'low', 'unacc'), ('high', 'high', '8', '2', 'big', 'med', 'unacc'), ('high', 'high', '8', '2', 'big', 'high', 'unacc'), ('high', 'high', '8', '4', 'small', 'low', 'unacc'), ('high', 'high', '8', '4', 'small', 'med', 'unacc'), ('high', 'high', '8', '4', 'small', 'high', 'acc'), ('high', 'high', '8', '4', 'med', 'low', 'unacc'), ('high', 'high', '8', '4', 'med', 'med', 'unacc'), ('high', 'high', '8', '4', 'med', 'high', 'acc'), ('high', 'high', '8', '4', 'big', 'low', 'unacc'), ('high', 'high', '8', '4', 'big', 'med', 'acc'), ('high', 'high', '8', '4', 'big', 'high', 'acc'), ('high', 'high', '8', 'more', 'small', 'low', 'unacc'), ('high', 'high', '8', 'more', 'small', 'med', 'unacc'), ('high', 'high', '8', 'more', 'small', 'high', 'unacc'), ('high', 'high', '8', 'more', 'med', 'low', 'unacc'), ('high', 'high', '8', 'more', 'med', 'med', 'unacc'), ('high', 'high', '8', 'more', 'med', 'high', 'acc'), ('high', 'high', '8', 'more', 'big', 'low', 'unacc'), ('high', 'high', '8', 'more', 'big', 'med', 'acc'), ('high', 'high', '8', 'more', 'big', 'high', 'acc'), ('high', 'med', '8', '2', 'small', 'low', 'unacc'), ('high', 'med', '8', '2', 'small', 'med', 'unacc'), ('high', 'med', '8', '2', 'small', 'high', 'unacc'), ('high', 'med', '8', '2', 'med', 'low', 'unacc'), ('high', 'med', '8', '2', 'med', 'med', 'unacc'), ('high', 'med', '8', '2', 'med', 'high', 'unacc'), ('high', 'med', '8', '2', 'big', 'low', 'unacc'), ('high', 'med', '8', '2', 'big', 'med', 'unacc'), ('high', 'med', '8', '2', 'big', 'high', 'unacc'), ('high', 'med', '8', '4', 'small', 'low', 'unacc'), ('high', 'med', '8', '4', 'small', 'med', 'unacc'), ('high', 'med', '8', '4', 'small', 'high', 'acc'), ('high', 'med', '8', '4', 'med', 'low', 'unacc'), ('high', 'med', '8', '4', 'med', 'med', 'unacc'), ('high', 'med', '8', '4', 'med', 'high', 'acc'), ('high', 'med', '8', '4', 'big', 'low', 'unacc'), ('high', 'med', '8', '4', 'big', 'med', 'acc'), ('high', 'med', '8', '4', 'big', 'high', 'acc'), ('high', 'med', '8', 'more', 'small', 'low', 'unacc'), ('high', 'med', '8', 'more', 'small', 'med', 'unacc'), ('high', 'med', '8', 'more', 'small', 'high', 'unacc'), ('high', 'med', '8', 'more', 'med', 'low', 'unacc'), ('high', 'med', '8', 'more', 'med', 'med', 'unacc'), ('high', 'med', '8', 'more', 'med', 'high', 'acc'), ('high', 'med', '8', 'more', 'big', 'low', 'unacc'), ('high', 'med', '8', 'more', 'big', 'med', 'acc'), ('high', 'med', '8', 'more', 'big', 'high', 'acc'), ('high', 'low', '8', '2', 'small', 'low', 'unacc'), ('high', 'low', '8', '2', 'small', 'med', 'unacc'), ('high', 'low', '8', '2', 'small', 'high', 'unacc'), ('high', 'low', '8', '2', 'med', 'low', 'unacc'), ('high', 'low', '8', '2', 'med', 'med', 'unacc'), ('high', 'low', '8', '2', 'med', 'high', 'unacc'), ('high', 'low', '8', '2', 'big', 'low', 'unacc'), ('high', 'low', '8', '2', 'big', 'med', 'unacc'), ('high', 'low', '8', '2', 'big', 'high', 'unacc'), ('high', 'low', '8', '4', 'small', 'low', 'unacc'), ('high', 'low', '8', '4', 'small', 'med', 'unacc'), ('high', 'low', '8', '4', 'small', 'high', 'acc'), ('high', 'low', '8', '4', 'med', 'low', 'unacc'), ('high', 'low', '8', '4', 'med', 'med', 'unacc'), ('high', 'low', '8', '4', 'med', 'high', 'acc'), ('high', 'low', '8', '4', 'big', 'low', 'unacc'), ('high', 'low', '8', '4', 'big', 'med', 'acc'), ('high', 'low', '8', '4', 'big', 'high', 'acc'), ('high', 'low', '8', 'more', 'small', 'low', 'unacc'), ('high', 'low', '8', 'more', 'small', 'med', 'unacc'), ('high', 'low', '8', 'more', 'small', 'high', 'unacc'), ('high', 'low', '8', 'more', 'med', 'low', 'unacc'), ('high', 'low', '8', 'more', 'med', 'med', 'unacc'), ('high', 'low', '8', 'more', 'med', 'high', 'acc'), ('high', 'low', '8', 'more', 'big', 'low', 'unacc'), ('high', 'low', '8', 'more', 'big', 'med', 'acc'), ('high', 'low', '8', 'more', 'big', 'high', 'acc'), ('med', 'vhigh', '8', '2', 'small', 'low', 'unacc'), ('med', 'vhigh', '8', '2', 'small', 'med', 'unacc'), ('med', 'vhigh', '8', '2', 'small', 'high', 'unacc'), ('med', 'vhigh', '8', '2', 'med', 'low', 'unacc'), ('med', 'vhigh', '8', '2', 'med', 'med', 'unacc'), ('med', 'vhigh', '8', '2', 'med', 'high', 'unacc'), ('med', 'vhigh', '8', '2', 'big', 'low', 'unacc'), ('med', 'vhigh', '8', '2', 'big', 'med', 'unacc'), ('med', 'vhigh', '8', '2', 'big', 'high', 'unacc'), ('med', 'vhigh', '8', '4', 'small', 'low', 'unacc'), ('med', 'vhigh', '8', '4', 'small', 'med', 'unacc'), ('med', 'vhigh', '8', '4', 'small', 'high', 'acc'), ('med', 'vhigh', '8', '4', 'med', 'low', 'unacc'), ('med', 'vhigh', '8', '4', 'med', 'med', 'unacc'), ('med', 'vhigh', '8', '4', 'med', 'high', 'acc'), ('med', 'vhigh', '8', '4', 'big', 'low', 'unacc'), ('med', 'vhigh', '8', '4', 'big', 'med', 'acc'), ('med', 'vhigh', '8', '4', 'big', 'high', 'acc'), ('med', 'vhigh', '8', 'more', 'small', 'low', 'unacc'), ('med', 'vhigh', '8', 'more', 'small', 'med', 'unacc'), ('med', 'vhigh', '8', 'more', 'small', 'high', 'unacc'), ('med', 'vhigh', '8', 'more', 'med', 'low', 'unacc'), ('med', 'vhigh', '8', 'more', 'med', 'med', 'unacc'), ('med', 'vhigh', '8', 'more', 'med', 'high', 'acc'), ('med', 'vhigh', '8', 'more', 'big', 'low', 'unacc'), ('med', 'vhigh', '8', 'more', 'big', 'med', 'acc'), ('med', 'vhigh', '8', 'more', 'big', 'high', 'acc'), ('med', 'high', '8', '2', 'small', 'low', 'unacc'), ('med', 'high', '8', '2', 'small', 'med', 'unacc'), ('med', 'high', '8', '2', 'small', 'high', 'unacc'), ('med', 'high', '8', '2', 'med', 'low', 'unacc'), ('med', 'high', '8', '2', 'med', 'med', 'unacc'), ('med', 'high', '8', '2', 'med', 'high', 'unacc'), ('med', 'high', '8', '2', 'big', 'low', 'unacc'), ('med', 'high', '8', '2', 'big', 'med', 'unacc'), ('med', 'high', '8', '2', 'big', 'high', 'unacc'), ('med', 'high', '8', '4', 'small', 'low', 'unacc'), ('med', 'high', '8', '4', 'small', 'med', 'unacc'), ('med', 'high', '8', '4', 'small', 'high', 'acc'), ('med', 'high', '8', '4', 'med', 'low', 'unacc'), ('med', 'high', '8', '4', 'med', 'med', 'unacc'), ('med', 'high', '8', '4', 'med', 'high', 'acc'), ('med', 'high', '8', '4', 'big', 'low', 'unacc'), ('med', 'high', '8', '4', 'big', 'med', 'acc'), ('med', 'high', '8', '4', 'big', 'high', 'acc'), ('med', 'high', '8', 'more', 'small', 'low', 'unacc'), ('med', 'high', '8', 'more', 'small', 'med', 'unacc'), ('med', 'high', '8', 'more', 'small', 'high', 'unacc'), ('med', 'high', '8', 'more', 'med', 'low', 'unacc'), ('med', 'high', '8', 'more', 'med', 'med', 'unacc'), ('med', 'high', '8', 'more', 'med', 'high', 'acc'), ('med', 'high', '8', 'more', 'big', 'low', 'unacc'), ('med', 'high', '8', 'more', 'big', 'med', 'acc'), ('med', 'high', '8', 'more', 'big', 'high', 'acc'), ('med', 'med', '8', '2', 'small', 'low', 'unacc'), ('med', 'med', '8', '2', 'small', 'med', 'unacc'), ('med', 'med', '8', '2', 'small', 'high', 'unacc'), ('med', 'med', '8', '2', 'med', 'low', 'unacc'), ('med', 'med', '8', '2', 'med', 'med', 'unacc'), ('med', 'med', '8', '2', 'med', 'high', 'unacc'), ('med', 'med', '8', '2', 'big', 'low', 'unacc'), ('med', 'med', '8', '2', 'big', 'med', 'unacc'), ('med', 'med', '8', '2', 'big', 'high', 'unacc'), ('med', 'med', '8', '4', 'small', 'low', 'unacc'), ('med', 'med', '8', '4', 'small', 'med', 'acc'), ('med', 'med', '8', '4', 'small', 'high', 'acc'), ('med', 'med', '8', '4', 'med', 'low', 'unacc'), ('med', 'med', '8', '4', 'med', 'med', 'acc'), ('med', 'med', '8', '4', 'med', 'high', 'acc'), ('med', 'med', '8', '4', 'big', 'low', 'unacc'), ('med', 'med', '8', '4', 'big', 'med', 'acc'), ('med', 'med', '8', '4', 'big', 'high', 'vgood'), ('med', 'med', '8', 'more', 'small', 'low', 'unacc'), ('med', 'med', '8', 'more', 'small', 'med', 'unacc'), ('med', 'med', '8', 'more', 'small', 'high', 'unacc'), ('med', 'med', '8', 'more', 'med', 'low', 'unacc'), ('med', 'med', '8', 'more', 'med', 'med', 'acc'), ('med', 'med', '8', 'more', 'med', 'high', 'acc'), ('med', 'med', '8', 'more', 'big', 'low', 'unacc'), ('med', 'med', '8', 'more', 'big', 'med', 'acc'), ('med', 'med', '8', 'more', 'big', 'high', 'vgood'), ('med', 'low', '8', '2', 'small', 'low', 'unacc'), ('med', 'low', '8', '2', 'small', 'med', 'unacc'), ('med', 'low', '8', '2', 'small', 'high', 'unacc'), ('med', 'low', '8', '2', 'med', 'low', 'unacc'), ('med', 'low', '8', '2', 'med', 'med', 'unacc'), ('med', 'low', '8', '2', 'med', 'high', 'unacc'), ('med', 'low', '8', '2', 'big', 'low', 'unacc'), ('med', 'low', '8', '2', 'big', 'med', 'unacc'), ('med', 'low', '8', '2', 'big', 'high', 'unacc'), ('med', 'low', '8', '4', 'small', 'low', 'unacc'), ('med', 'low', '8', '4', 'small', 'med', 'acc'), ('med', 'low', '8', '4', 'small', 'high', 'good'), ('med', 'low', '8', '4', 'med', 'low', 'unacc'), ('med', 'low', '8', '4', 'med', 'med', 'acc'), ('med', 'low', '8', '4', 'med', 'high', 'good'), ('med', 'low', '8', '4', 'big', 'low', 'unacc'), ('med', 'low', '8', '4', 'big', 'med', 'good'), ('med', 'low', '8', '4', 'big', 'high', 'vgood'), ('med', 'low', '8', 'more', 'small', 'low', 'unacc'), ('med', 'low', '8', 'more', 'small', 'med', 'unacc'), ('med', 'low', '8', 'more', 'small', 'high', 'unacc'), ('med', 'low', '8', 'more', 'med', 'low', 'unacc'), ('med', 'low', '8', 'more', 'med', 'med', 'acc'), ('med', 'low', '8', 'more', 'med', 'high', 'good'), ('med', 'low', '8', 'more', 'big', 'low', 'unacc'), ('med', 'low', '8', 'more', 'big', 'med', 'good'), ('med', 'low', '8', 'more', 'big', 'high', 'vgood'), ('low', 'vhigh', '8', '2', 'small', 'low', 'unacc'), ('low', 'vhigh', '8', '2', 'small', 'med', 'unacc'), ('low', 'vhigh', '8', '2', 'small', 'high', 'unacc'), ('low', 'vhigh', '8', '2', 'med', 'low', 'unacc'), ('low', 'vhigh', '8', '2', 'med', 'med', 'unacc'), ('low', 'vhigh', '8', '2', 'med', 'high', 'unacc'), ('low', 'vhigh', '8', '2', 'big', 'low', 'unacc'), ('low', 'vhigh', '8', '2', 'big', 'med', 'unacc'), ('low', 'vhigh', '8', '2', 'big', 'high', 'unacc'), ('low', 'vhigh', '8', '4', 'small', 'low', 'unacc'), ('low', 'vhigh', '8', '4', 'small', 'med', 'unacc'), ('low', 'vhigh', '8', '4', 'small', 'high', 'acc'), ('low', 'vhigh', '8', '4', 'med', 'low', 'unacc'), ('low', 'vhigh', '8', '4', 'med', 'med', 'unacc'), ('low', 'vhigh', '8', '4', 'med', 'high', 'acc'), ('low', 'vhigh', '8', '4', 'big', 'low', 'unacc'), ('low', 'vhigh', '8', '4', 'big', 'med', 'acc'), ('low', 'vhigh', '8', '4', 'big', 'high', 'acc'), ('low', 'vhigh', '8', 'more', 'small', 'low', 'unacc'), ('low', 'vhigh', '8', 'more', 'small', 'med', 'unacc'), ('low', 'vhigh', '8', 'more', 'small', 'high', 'unacc'), ('low', 'vhigh', '8', 'more', 'med', 'low', 'unacc'), ('low', 'vhigh', '8', 'more', 'med', 'med', 'unacc'), ('low', 'vhigh', '8', 'more', 'med', 'high', 'acc'), ('low', 'vhigh', '8', 'more', 'big', 'low', 'unacc'), ('low', 'vhigh', '8', 'more', 'big', 'med', 'acc'), ('low', 'vhigh', '8', 'more', 'big', 'high', 'acc'), ('low', 'high', '8', '2', 'small', 'low', 'unacc'), ('low', 'high', '8', '2', 'small', 'med', 'unacc'), ('low', 'high', '8', '2', 'small', 'high', 'unacc'), ('low', 'high', '8', '2', 'med', 'low', 'unacc'), ('low', 'high', '8', '2', 'med', 'med', 'unacc'), ('low', 'high', '8', '2', 'med', 'high', 'unacc'), ('low', 'high', '8', '2', 'big', 'low', 'unacc'), ('low', 'high', '8', '2', 'big', 'med', 'unacc'), ('low', 'high', '8', '2', 'big', 'high', 'unacc'), ('low', 'high', '8', '4', 'small', 'low', 'unacc'), ('low', 'high', '8', '4', 'small', 'med', 'acc'), ('low', 'high', '8', '4', 'small', 'high', 'acc'), ('low', 'high', '8', '4', 'med', 'low', 'unacc'), ('low', 'high', '8', '4', 'med', 'med', 'acc'), ('low', 'high', '8', '4', 'med', 'high', 'acc'), ('low', 'high', '8', '4', 'big', 'low', 'unacc'), ('low', 'high', '8', '4', 'big', 'med', 'acc'), ('low', 'high', '8', '4', 'big', 'high', 'vgood'), ('low', 'high', '8', 'more', 'small', 'low', 'unacc'), ('low', 'high', '8', 'more', 'small', 'med', 'unacc'), ('low', 'high', '8', 'more', 'small', 'high', 'unacc'), ('low', 'high', '8', 'more', 'med', 'low', 'unacc'), ('low', 'high', '8', 'more', 'med', 'med', 'acc'), ('low', 'high', '8', 'more', 'med', 'high', 'acc'), ('low', 'high', '8', 'more', 'big', 'low', 'unacc'), ('low', 'high', '8', 'more', 'big', 'med', 'acc'), ('low', 'high', '8', 'more', 'big', 'high', 'vgood'), ('low', 'med', '8', '2', 'small', 'low', 'unacc'), ('low', 'med', '8', '2', 'small', 'med', 'unacc'), ('low', 'med', '8', '2', 'small', 'high', 'unacc'), ('low', 'med', '8', '2', 'med', 'low', 'unacc'), ('low', 'med', '8', '2', 'med', 'med', 'unacc'), ('low', 'med', '8', '2', 'med', 'high', 'unacc'), ('low', 'med', '8', '2', 'big', 'low', 'unacc'), ('low', 'med', '8', '2', 'big', 'med', 'unacc'), ('low', 'med', '8', '2', 'big', 'high', 'unacc'), ('low', 'med', '8', '4', 'small', 'low', 'unacc'), ('low', 'med', '8', '4', 'small', 'med', 'acc'), ('low', 'med', '8', '4', 'small', 'high', 'good'), ('low', 'med', '8', '4', 'med', 'low', 'unacc'), ('low', 'med', '8', '4', 'med', 'med', 'acc'), ('low', 'med', '8', '4', 'med', 'high', 'good'), ('low', 'med', '8', '4', 'big', 'low', 'unacc'), ('low', 'med', '8', '4', 'big', 'med', 'good'), ('low', 'med', '8', '4', 'big', 'high', 'vgood'), ('low', 'med', '8', 'more', 'small', 'low', 'unacc'), ('low', 'med', '8', 'more', 'small', 'med', 'unacc'), ('low', 'med', '8', 'more', 'small', 'high', 'unacc'), ('low', 'med', '8', 'more', 'med', 'low', 'unacc'), ('low', 'med', '8', 'more', 'med', 'med', 'acc'), ('low', 'med', '8', 'more', 'med', 'high', 'good'), ('low', 'med', '8', 'more', 'big', 'low', 'unacc'), ('low', 'med', '8', 'more', 'big', 'med', 'good'), ('low', 'med', '8', 'more', 'big', 'high', 'vgood'), ('low', 'low', '8', '2', 'small', 'low', 'unacc'), ('low', 'low', '8', '2', 'small', 'med', 'unacc'), ('low', 'low', '8', '2', 'small', 'high', 'unacc'), ('low', 'low', '8', '2', 'med', 'low', 'unacc'), ('low', 'low', '8', '2', 'med', 'med', 'unacc'), ('low', 'low', '8', '2', 'med', 'high', 'unacc'), ('low', 'low', '8', '2', 'big', 'low', 'unacc'), ('low', 'low', '8', '2', 'big', 'med', 'unacc'), ('low', 'low', '8', '2', 'big', 'high', 'unacc'), ('low', 'low', '8', '4', 'small', 'low', 'unacc'), ('low', 'low', '8', '4', 'small', 'med', 'acc'), ('low', 'low', '8', '4', 'small', 'high', 'good'), ('low', 'low', '8', '4', 'med', 'low', 'unacc'), ('low', 'low', '8', '4', 'med', 'med', 'acc'), ('low', 'low', '8', '4', 'med', 'high', 'good'), ('low', 'low', '8', '4', 'big', 'low', 'unacc'), ('low', 'low', '8', '4', 'big', 'med', 'good'), ('low', 'low', '8', '4', 'big', 'high', 'vgood'), ('low', 'low', '8', 'more', 'small', 'low', 'unacc'), ('low', 'low', '8', 'more', 'small', 'med', 'unacc'), ('low', 'low', '8', 'more', 'small', 'high', 'unacc'), ('low', 'low', '8', 'more', 'med', 'low', 'unacc'), ('low', 'low', '8', 'more', 'med', 'med', 'acc'), ('low', 'low', '8', 'more', 'med', 'high', 'good'), ('low', 'low', '8', 'more', 'big', 'low', 'unacc'), ('low', 'low', '8', 'more', 'big', 'med', 'good'), ('low', 'low', '8', 'more', 'big', 'high', 'vgood')]\n"
     ]
    }
   ],
   "source": [
    "import mysql.connector as connection\n",
    "try:\n",
    "    mydb = connection.connect(host=\"localhost\", database=\"cardataset\", user=\"root\", passwd=\"admin\", use_pure=True)\n",
    "    \n",
    "    cursor = mydb.cursor() #create a cursor to execute queries\n",
    "\n",
    "    query = \"UPDATE car SET doors = '8' WHERE doors = '2'\" \n",
    "    \n",
    "    cursor = mydb.cursor() #create a cursor to execute queries\n",
    "    cursor.execute(query)\n",
    "    mydb.commit() # remember to commit, every time, whenever you run INSERT, UPDATE or DELETE like queries.\n",
    "    \n",
    "    # Lets verify our updates\n",
    "    \n",
    "    query = \"SELECT * FROM car WHERE doors = '8'\" \n",
    "    \n",
    "    cursor.execute(query)\n",
    "    result = cursor.fetchall()\n",
    "\n",
    "    print(result)\n",
    "\n",
    "    mydb.close()\n",
    "    \n",
    "except Exception as e:\n",
    "    mydb.close()\n",
    "    print(str(e))"
   ]
  },
  {
   "cell_type": "markdown",
   "id": "6627ce73",
   "metadata": {},
   "source": [
    "# Delete Table"
   ]
  },
  {
   "cell_type": "code",
   "execution_count": 2,
   "id": "62e0a253",
   "metadata": {},
   "outputs": [
    {
     "name": "stdout",
     "output_type": "stream",
     "text": [
      "1051 (42S02): Unknown table 'cardataset.car'\n"
     ]
    }
   ],
   "source": [
    "import mysql.connector as connection\n",
    "try:\n",
    "    mydb = connection.connect(host=\"localhost\", database=\"cardataset\", user=\"root\", passwd=\"admin\", use_pure=True)\n",
    "    \n",
    "    cursor = mydb.cursor() #create a cursor to execute queries\n",
    "\n",
    "    query = \"DROP TABLE car\" \n",
    "    \n",
    "    cursor.execute(query)\n",
    "    mydb.commit() # remember to commit, every time, whenever you run INSERT, UPDATE or DELETE like queries.\n",
    "    \n",
    "    mydb.close()\n",
    "    \n",
    "except Exception as e:\n",
    "    mydb.close()\n",
    "    print(str(e))"
   ]
  },
  {
   "cell_type": "markdown",
   "id": "9502f190",
   "metadata": {},
   "source": [
    "# Delete Database"
   ]
  },
  {
   "cell_type": "code",
   "execution_count": 4,
   "id": "0203574c",
   "metadata": {},
   "outputs": [],
   "source": [
    "import mysql.connector as connection\n",
    "try:\n",
    "    mydb = connection.connect(host=\"localhost\", user=\"root\", passwd=\"admin\", use_pure=True)\n",
    "    \n",
    "    cursor = mydb.cursor() #create a cursor to execute queries\n",
    "\n",
    "    query = \"DROP DATABASE cardataset\" \n",
    "    \n",
    "    cursor.execute(query)\n",
    "    mydb.commit() # remember to commit, every time, whenever you run INSERT, UPDATE or DELETE like queries.\n",
    "    \n",
    "    mydb.close()\n",
    "    \n",
    "except Exception as e:\n",
    "    mydb.close()\n",
    "    print(str(e))"
   ]
  },
  {
   "cell_type": "code",
   "execution_count": null,
   "id": "6541c5a9",
   "metadata": {},
   "outputs": [],
   "source": []
  }
 ],
 "metadata": {
  "kernelspec": {
   "display_name": "Python 3 (ipykernel)",
   "language": "python",
   "name": "python3"
  },
  "language_info": {
   "codemirror_mode": {
    "name": "ipython",
    "version": 3
   },
   "file_extension": ".py",
   "mimetype": "text/x-python",
   "name": "python",
   "nbconvert_exporter": "python",
   "pygments_lexer": "ipython3",
   "version": "3.9.7"
  }
 },
 "nbformat": 4,
 "nbformat_minor": 5
}
