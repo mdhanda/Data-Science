{
 "cells": [
  {
   "cell_type": "code",
   "execution_count": 1,
   "id": "b59d9708",
   "metadata": {},
   "outputs": [],
   "source": [
    "a = 10"
   ]
  },
  {
   "cell_type": "code",
   "execution_count": 2,
   "id": "4420ce45",
   "metadata": {},
   "outputs": [
    {
     "name": "stdout",
     "output_type": "stream",
     "text": [
      "Condition fulfilled.\n"
     ]
    }
   ],
   "source": [
    "if a < 15 :\n",
    "    print(\"Condition fulfilled.\")"
   ]
  },
  {
   "cell_type": "code",
   "execution_count": 3,
   "id": "631d3c40",
   "metadata": {},
   "outputs": [],
   "source": [
    "if a < 15 :\n",
    "    pass # Valid, but it won't do anything - dead code"
   ]
  },
  {
   "cell_type": "code",
   "execution_count": 4,
   "id": "9ea74595",
   "metadata": {},
   "outputs": [
    {
     "name": "stdout",
     "output_type": "stream",
     "text": [
      "Condition fulfilled.\n"
     ]
    }
   ],
   "source": [
    "if a < 15 :\n",
    "    \n",
    "    print(\"Condition fulfilled.\")"
   ]
  },
  {
   "cell_type": "code",
   "execution_count": 9,
   "id": "878b092f",
   "metadata": {},
   "outputs": [
    {
     "name": "stdout",
     "output_type": "stream",
     "text": [
      "Condition not fulfilled.\n"
     ]
    }
   ],
   "source": [
    "if a > 15 :\n",
    "    print(\"Condition fulfilled.\")\n",
    "elif a < 15 :\n",
    "    print(\"Condition not fulfilled.\")\n",
    "else :\n",
    "    print(\"Try something different.\")"
   ]
  },
  {
   "cell_type": "code",
   "execution_count": 10,
   "id": "0f753c2d",
   "metadata": {},
   "outputs": [
    {
     "name": "stdout",
     "output_type": "stream",
     "text": [
      "2322\n",
      "Option: Car\n"
     ]
    }
   ],
   "source": [
    "income = int(input())\n",
    "if income < 1500 :\n",
    "    print(\"Option: Bike\")\n",
    "elif income < 2500 :\n",
    "    print(\"Option: Car\")\n",
    "elif income < 4500 :\n",
    "    print(\"Option: Luxury Car\")\n",
    "else :\n",
    "    print(\"Plan Bigger..\")"
   ]
  },
  {
   "cell_type": "code",
   "execution_count": 16,
   "id": "3b8b5c12",
   "metadata": {},
   "outputs": [
    {
     "name": "stdout",
     "output_type": "stream",
     "text": [
      "7500\n",
      "Discount will be  375.0\n"
     ]
    }
   ],
   "source": [
    "# A discount example\n",
    "Total_Price = int(input())\n",
    "if Total_Price > 20000 :\n",
    "    discount = Total_Price * .20\n",
    "    print(\"Discount will be \", discount)\n",
    "elif Total_Price >= 7000 :\n",
    "    discount = Total_Price * .05\n",
    "    print(\"Discount will be \", discount)\n",
    "else :\n",
    "    print(\"No Discount offered.\")"
   ]
  },
  {
   "cell_type": "code",
   "execution_count": 22,
   "id": "6d60d341",
   "metadata": {},
   "outputs": [
    {
     "name": "stdout",
     "output_type": "stream",
     "text": [
      "manu05\n",
      "Discount offered 5%\n",
      "Final Price offered  950.0\n"
     ]
    }
   ],
   "source": [
    "price = 1000\n",
    "coupon = str(input())\n",
    "if(coupon.upper() == \"MANU05\") :\n",
    "    print(\"Discount offered 5%\")\n",
    "    price = price - price * .05\n",
    "elif(coupon.upper() == \"BIG10\") :\n",
    "    print(\"Discount offered 10%\")\n",
    "    price = price - price * .10\n",
    "else :\n",
    "    print(\"Coupon code doesn't exist.\")\n",
    "    \n",
    "print(\"Final Price offered \", price);"
   ]
  },
  {
   "cell_type": "code",
   "execution_count": 31,
   "id": "a08acd72",
   "metadata": {},
   "outputs": [
    {
     "name": "stdout",
     "output_type": "stream",
     "text": [
      "4.5\n",
      "Time for Profeciency in Data Science is 2-3 months.\n"
     ]
    }
   ],
   "source": [
    "daily_study_hour = float(input())\n",
    "if(daily_study_hour < 2) :\n",
    "    print(\"Time for Profeciency in Data Science is 8-9 months.\")\n",
    "elif(daily_study_hour < 4 and daily_study_hour > 2) :  # '&' will not work. We need to use 'and'\n",
    "    print(\"Time for Profeciency in Data Science is 5-6 months.\")\n",
    "elif(daily_study_hour < 8 and daily_study_hour > 4) :\n",
    "    print(\"Time for Profeciency in Data Science is 2-3 months.\")\n",
    "else :\n",
    "    print(\"It'll be difficult.\")"
   ]
  },
  {
   "cell_type": "markdown",
   "id": "c2ce0e4a",
   "metadata": {},
   "source": [
    "# if with tuple"
   ]
  },
  {
   "cell_type": "code",
   "execution_count": 32,
   "id": "7279a412",
   "metadata": {},
   "outputs": [],
   "source": [
    "tup1 = ('a', 'b', 'c')"
   ]
  },
  {
   "cell_type": "code",
   "execution_count": 33,
   "id": "db59c17b",
   "metadata": {},
   "outputs": [
    {
     "name": "stdout",
     "output_type": "stream",
     "text": [
      "Value z is not present in tup1\n"
     ]
    }
   ],
   "source": [
    "if 'z' in tup1 :\n",
    "    print(\"Value z is present in tup1\")\n",
    "else:\n",
    "    print(\"Value z is not present in tup1\")"
   ]
  },
  {
   "cell_type": "markdown",
   "id": "988d5504",
   "metadata": {},
   "source": [
    "# if with list"
   ]
  },
  {
   "cell_type": "code",
   "execution_count": 36,
   "id": "6e690423",
   "metadata": {},
   "outputs": [],
   "source": [
    "lst = ['a', 'b', 'c']"
   ]
  },
  {
   "cell_type": "code",
   "execution_count": 37,
   "id": "147f5ed4",
   "metadata": {},
   "outputs": [],
   "source": [
    "if lst[1] == 'b' :\n",
    "    lst[1] = 'z'"
   ]
  },
  {
   "cell_type": "code",
   "execution_count": 38,
   "id": "e9898bd0",
   "metadata": {},
   "outputs": [
    {
     "data": {
      "text/plain": [
       "['a', 'z', 'c']"
      ]
     },
     "execution_count": 38,
     "metadata": {},
     "output_type": "execute_result"
    }
   ],
   "source": [
    "lst"
   ]
  },
  {
   "cell_type": "markdown",
   "id": "ae588064",
   "metadata": {},
   "source": [
    "# if with dict"
   ]
  },
  {
   "cell_type": "code",
   "execution_count": 39,
   "id": "93af01ac",
   "metadata": {},
   "outputs": [],
   "source": [
    "dct = {'key1' : 10, 'key2' : 20, 'key3' : 30}"
   ]
  },
  {
   "cell_type": "code",
   "execution_count": 40,
   "id": "06e1dddf",
   "metadata": {},
   "outputs": [],
   "source": [
    "if dct['key2'] == 20 :\n",
    "    dct['key2'] = dct['key2'] + 100"
   ]
  },
  {
   "cell_type": "code",
   "execution_count": 41,
   "id": "c3510514",
   "metadata": {},
   "outputs": [
    {
     "data": {
      "text/plain": [
       "{'key1': 10, 'key2': 120, 'key3': 30}"
      ]
     },
     "execution_count": 41,
     "metadata": {},
     "output_type": "execute_result"
    }
   ],
   "source": [
    "dct"
   ]
  },
  {
   "cell_type": "markdown",
   "id": "7a2f05ae",
   "metadata": {},
   "source": [
    "# While loop"
   ]
  },
  {
   "cell_type": "code",
   "execution_count": 43,
   "id": "a4450849",
   "metadata": {},
   "outputs": [
    {
     "name": "stdout",
     "output_type": "stream",
     "text": [
      "1\n",
      "2\n",
      "3\n",
      "4\n",
      "5\n",
      "6\n",
      "7\n",
      "8\n",
      "9\n",
      "10\n"
     ]
    }
   ],
   "source": [
    "i = 1\n",
    "while i <= 10 :\n",
    "    print(i)\n",
    "    i += 1"
   ]
  },
  {
   "cell_type": "code",
   "execution_count": 44,
   "id": "4f88cc6f",
   "metadata": {},
   "outputs": [
    {
     "name": "stdout",
     "output_type": "stream",
     "text": [
      "2\n",
      "2  *  1  =  2\n",
      "2  *  2  =  4\n",
      "2  *  3  =  6\n",
      "2  *  4  =  8\n",
      "2  *  5  =  10\n",
      "2  *  6  =  12\n",
      "2  *  7  =  14\n",
      "2  *  8  =  16\n",
      "2  *  9  =  18\n",
      "2  *  10  =  20\n"
     ]
    }
   ],
   "source": [
    "i = 1\n",
    "n = int(input())\n",
    "while i <= 10 :\n",
    "    print(n,\" * \", i, \" = \", n*i)\n",
    "    i += 1"
   ]
  },
  {
   "cell_type": "code",
   "execution_count": 45,
   "id": "e0751171",
   "metadata": {},
   "outputs": [],
   "source": [
    "# While with list"
   ]
  },
  {
   "cell_type": "code",
   "execution_count": 48,
   "id": "0b7ad68c",
   "metadata": {},
   "outputs": [
    {
     "data": {
      "text/plain": [
       "[101, 102, 103, 104, 105]"
      ]
     },
     "execution_count": 48,
     "metadata": {},
     "output_type": "execute_result"
    }
   ],
   "source": [
    "# add 100 to each list element\n",
    "lst = [1,2,3,4,5]\n",
    "i = 0\n",
    "while i < len(lst) :\n",
    "    lst[i] = lst[i] + 100\n",
    "    i += 1\n",
    "    \n",
    "lst"
   ]
  },
  {
   "cell_type": "markdown",
   "id": "327f0678",
   "metadata": {},
   "source": [
    "# For loop"
   ]
  },
  {
   "cell_type": "code",
   "execution_count": 49,
   "id": "f697994b",
   "metadata": {},
   "outputs": [
    {
     "name": "stdout",
     "output_type": "stream",
     "text": [
      "apple\n",
      "mango\n",
      "grapes\n",
      "orange\n",
      "pear\n"
     ]
    }
   ],
   "source": [
    "lst = ['apple','mango','grapes','orange','pear']\n",
    "for i in lst :\n",
    "    print(i)"
   ]
  },
  {
   "cell_type": "code",
   "execution_count": 52,
   "id": "44b8dc0e",
   "metadata": {},
   "outputs": [
    {
     "name": "stdout",
     "output_type": "stream",
     "text": [
      "blue chair\n",
      "blue book\n",
      "blue laptop\n",
      "orange chair\n",
      "orange book\n",
      "orange laptop\n",
      "white chair\n",
      "white book\n",
      "white laptop\n"
     ]
    }
   ],
   "source": [
    "# nested for loop\n",
    "lst1 = ['blue','orange','white']\n",
    "lst2 = ['chair', 'book', 'laptop']\n",
    "\n",
    "for i in lst1 :\n",
    "    for j in lst2 :\n",
    "        print(i, j)"
   ]
  },
  {
   "cell_type": "markdown",
   "id": "cda26ee8",
   "metadata": {},
   "source": [
    "# Functions"
   ]
  },
  {
   "cell_type": "code",
   "execution_count": 53,
   "id": "4ad94acf",
   "metadata": {},
   "outputs": [],
   "source": [
    "# Function is a block of code which performs a specific task. A task may or may not involve multiple steps/actions.\n",
    "\n",
    "def hello() :\n",
    "    print(\"Hello World!!\")"
   ]
  },
  {
   "cell_type": "code",
   "execution_count": 54,
   "id": "dd4115d6",
   "metadata": {},
   "outputs": [
    {
     "name": "stdout",
     "output_type": "stream",
     "text": [
      "Hello World!!\n"
     ]
    }
   ],
   "source": [
    "hello()"
   ]
  },
  {
   "cell_type": "code",
   "execution_count": 55,
   "id": "13059f63",
   "metadata": {},
   "outputs": [],
   "source": [
    "def add_10(x) :\n",
    "    return x + 10"
   ]
  },
  {
   "cell_type": "code",
   "execution_count": 57,
   "id": "0cad6802",
   "metadata": {},
   "outputs": [
    {
     "data": {
      "text/plain": [
       "19"
      ]
     },
     "execution_count": 57,
     "metadata": {},
     "output_type": "execute_result"
    }
   ],
   "source": [
    "add_10(9)"
   ]
  },
  {
   "cell_type": "code",
   "execution_count": 58,
   "id": "6ca1107e",
   "metadata": {},
   "outputs": [],
   "source": [
    "def odd_even(x) :\n",
    "    if x%2 == 0 :\n",
    "        print(x, \" is even\")\n",
    "    else :\n",
    "        print(x, \" is odd\")"
   ]
  },
  {
   "cell_type": "code",
   "execution_count": 59,
   "id": "9b680da8",
   "metadata": {},
   "outputs": [
    {
     "name": "stdout",
     "output_type": "stream",
     "text": [
      "13  is odd\n"
     ]
    }
   ],
   "source": [
    "odd_even(13)"
   ]
  },
  {
   "cell_type": "code",
   "execution_count": 60,
   "id": "fab1267f",
   "metadata": {},
   "outputs": [
    {
     "data": {
      "text/plain": [
       "100"
      ]
     },
     "execution_count": 60,
     "metadata": {},
     "output_type": "execute_result"
    }
   ],
   "source": [
    "# lambda function OR anonymous function || a one liner function\n",
    "\n",
    "g = lambda x: x * x\n",
    "g(10)"
   ]
  },
  {
   "cell_type": "code",
   "execution_count": 61,
   "id": "4c2da426",
   "metadata": {},
   "outputs": [],
   "source": [
    "# lambda with filter"
   ]
  },
  {
   "cell_type": "code",
   "execution_count": 74,
   "id": "c4105288",
   "metadata": {},
   "outputs": [],
   "source": [
    "ls1 = [12,23,345,45,56,56,57,67,34,45,56,79]"
   ]
  },
  {
   "cell_type": "code",
   "execution_count": 79,
   "id": "0ee29bc8",
   "metadata": {},
   "outputs": [],
   "source": [
    "\n",
    "# filter(lambda x: (x%2 != 0), lst) -- It's filtering all odd values in list lst -- x is parameter in lambda function\n",
    "odd_list = list(filter(lambda x: (x%2!=0), ls1)) # Store the filtered list in another list"
   ]
  },
  {
   "cell_type": "code",
   "execution_count": 80,
   "id": "58e8f30f",
   "metadata": {},
   "outputs": [
    {
     "data": {
      "text/plain": [
       "[23, 345, 45, 57, 67, 45, 79]"
      ]
     },
     "execution_count": 80,
     "metadata": {},
     "output_type": "execute_result"
    }
   ],
   "source": [
    "odd_list"
   ]
  },
  {
   "cell_type": "code",
   "execution_count": 81,
   "id": "ba0cf5fa",
   "metadata": {},
   "outputs": [],
   "source": [
    "# lambda with map"
   ]
  },
  {
   "cell_type": "code",
   "execution_count": 82,
   "id": "fb08d89a",
   "metadata": {},
   "outputs": [],
   "source": [
    "lst = [1,2,3,4,5,6,7,8]"
   ]
  },
  {
   "cell_type": "code",
   "execution_count": 84,
   "id": "1eb3c4fb",
   "metadata": {},
   "outputs": [
    {
     "data": {
      "text/plain": [
       "[2, 4, 6, 8, 10, 12, 14, 16]"
      ]
     },
     "execution_count": 84,
     "metadata": {},
     "output_type": "execute_result"
    }
   ],
   "source": [
    "# Task - multiply each element by 2\n",
    "new_lst = list(map(lambda x: x*2, lst))\n",
    "new_lst"
   ]
  },
  {
   "cell_type": "code",
   "execution_count": 85,
   "id": "ece57524",
   "metadata": {},
   "outputs": [],
   "source": [
    "from functools import reduce"
   ]
  },
  {
   "cell_type": "code",
   "execution_count": 89,
   "id": "858b5fba",
   "metadata": {},
   "outputs": [],
   "source": [
    "sum = reduce(lambda x,y: x+y, lst)"
   ]
  },
  {
   "cell_type": "code",
   "execution_count": 90,
   "id": "f1aad333",
   "metadata": {},
   "outputs": [
    {
     "data": {
      "text/plain": [
       "36"
      ]
     },
     "execution_count": 90,
     "metadata": {},
     "output_type": "execute_result"
    }
   ],
   "source": [
    "sum"
   ]
  },
  {
   "cell_type": "code",
   "execution_count": null,
   "id": "d7670a5e",
   "metadata": {},
   "outputs": [],
   "source": [
    " "
   ]
  }
 ],
 "metadata": {
  "kernelspec": {
   "display_name": "Python 3 (ipykernel)",
   "language": "python",
   "name": "python3"
  },
  "language_info": {
   "codemirror_mode": {
    "name": "ipython",
    "version": 3
   },
   "file_extension": ".py",
   "mimetype": "text/x-python",
   "name": "python",
   "nbconvert_exporter": "python",
   "pygments_lexer": "ipython3",
   "version": "3.9.7"
  }
 },
 "nbformat": 4,
 "nbformat_minor": 5
}
