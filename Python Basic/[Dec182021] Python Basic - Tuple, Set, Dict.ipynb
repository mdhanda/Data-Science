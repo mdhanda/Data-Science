{
 "cells": [
  {
   "cell_type": "markdown",
   "id": "5417328e",
   "metadata": {},
   "source": [
    "# Tuples"
   ]
  },
  {
   "cell_type": "code",
   "execution_count": 1,
   "id": "f22b0692",
   "metadata": {},
   "outputs": [
    {
     "data": {
      "text/plain": [
       "tuple"
      ]
     },
     "execution_count": 1,
     "metadata": {},
     "output_type": "execute_result"
    }
   ],
   "source": [
    "t =(1,2,3,4,5)\n",
    "type(t)"
   ]
  },
  {
   "cell_type": "code",
   "execution_count": 7,
   "id": "f5dd9cc9",
   "metadata": {},
   "outputs": [],
   "source": [
    "t1 = (\"abc\", 123, 3+5j , 23.435, True)\n",
    "lst = [\"abc\", 123, 3+5j , 23.435, True]"
   ]
  },
  {
   "cell_type": "code",
   "execution_count": 8,
   "id": "fcd5633c",
   "metadata": {},
   "outputs": [
    {
     "data": {
      "text/plain": [
       "tuple"
      ]
     },
     "execution_count": 8,
     "metadata": {},
     "output_type": "execute_result"
    }
   ],
   "source": [
    "type(t1)"
   ]
  },
  {
   "cell_type": "code",
   "execution_count": 9,
   "id": "2764e041",
   "metadata": {},
   "outputs": [
    {
     "data": {
      "text/plain": [
       "list"
      ]
     },
     "execution_count": 9,
     "metadata": {},
     "output_type": "execute_result"
    }
   ],
   "source": [
    "type(lst)"
   ]
  },
  {
   "cell_type": "code",
   "execution_count": 10,
   "id": "1d44070e",
   "metadata": {},
   "outputs": [
    {
     "data": {
      "text/plain": [
       "['abc', 123]"
      ]
     },
     "execution_count": 10,
     "metadata": {},
     "output_type": "execute_result"
    }
   ],
   "source": [
    "lst[0:2]"
   ]
  },
  {
   "cell_type": "code",
   "execution_count": 11,
   "id": "6a1a3acf",
   "metadata": {},
   "outputs": [
    {
     "data": {
      "text/plain": [
       "('abc', 123)"
      ]
     },
     "execution_count": 11,
     "metadata": {},
     "output_type": "execute_result"
    }
   ],
   "source": [
    "t1[0:2]"
   ]
  },
  {
   "cell_type": "code",
   "execution_count": 12,
   "id": "93351dd4",
   "metadata": {},
   "outputs": [
    {
     "data": {
      "text/plain": [
       "['abc', 123, (3+5j), 23.435, True]"
      ]
     },
     "execution_count": 12,
     "metadata": {},
     "output_type": "execute_result"
    }
   ],
   "source": [
    "lst"
   ]
  },
  {
   "cell_type": "code",
   "execution_count": 13,
   "id": "f6bebf7c",
   "metadata": {},
   "outputs": [],
   "source": [
    "lst[0] = \"xyz\""
   ]
  },
  {
   "cell_type": "code",
   "execution_count": 14,
   "id": "563bba5e",
   "metadata": {},
   "outputs": [
    {
     "data": {
      "text/plain": [
       "['xyz', 123, (3+5j), 23.435, True]"
      ]
     },
     "execution_count": 14,
     "metadata": {},
     "output_type": "execute_result"
    }
   ],
   "source": [
    "lst"
   ]
  },
  {
   "cell_type": "code",
   "execution_count": 17,
   "id": "18788738",
   "metadata": {},
   "outputs": [
    {
     "ename": "TypeError",
     "evalue": "'tuple' object does not support item assignment",
     "output_type": "error",
     "traceback": [
      "\u001b[1;31m---------------------------------------------------------------------------\u001b[0m",
      "\u001b[1;31mTypeError\u001b[0m                                 Traceback (most recent call last)",
      "\u001b[1;32m~\\AppData\\Local\\Temp/ipykernel_9052/1428789884.py\u001b[0m in \u001b[0;36m<module>\u001b[1;34m\u001b[0m\n\u001b[1;32m----> 1\u001b[1;33m \u001b[0mt1\u001b[0m\u001b[1;33m[\u001b[0m\u001b[1;36m0\u001b[0m\u001b[1;33m]\u001b[0m \u001b[1;33m=\u001b[0m \u001b[1;34m\"xyz\"\u001b[0m\u001b[1;33m\u001b[0m\u001b[1;33m\u001b[0m\u001b[0m\n\u001b[0m",
      "\u001b[1;31mTypeError\u001b[0m: 'tuple' object does not support item assignment"
     ]
    }
   ],
   "source": [
    "t1[0] = \"xyz\" # TUPLES ARE IMMUTABLE. Can't perform assignment."
   ]
  },
  {
   "cell_type": "code",
   "execution_count": 18,
   "id": "c618d4fe",
   "metadata": {},
   "outputs": [
    {
     "data": {
      "text/plain": [
       "(1, 2, 3, 4, 5, 'abc', 123, (3+5j), 23.435, True)"
      ]
     },
     "execution_count": 18,
     "metadata": {},
     "output_type": "execute_result"
    }
   ],
   "source": [
    "t+t1"
   ]
  },
  {
   "cell_type": "code",
   "execution_count": 19,
   "id": "8e24d5b3",
   "metadata": {},
   "outputs": [
    {
     "data": {
      "text/plain": [
       "(1, 2, 3, 4, 5, 1, 2, 3, 4, 5)"
      ]
     },
     "execution_count": 19,
     "metadata": {},
     "output_type": "execute_result"
    }
   ],
   "source": [
    "t*2"
   ]
  },
  {
   "cell_type": "code",
   "execution_count": 25,
   "id": "e9ddf687",
   "metadata": {},
   "outputs": [
    {
     "data": {
      "text/plain": [
       "1"
      ]
     },
     "execution_count": 25,
     "metadata": {},
     "output_type": "execute_result"
    }
   ],
   "source": [
    "t.count(5)"
   ]
  },
  {
   "cell_type": "code",
   "execution_count": 24,
   "id": "435598a2",
   "metadata": {},
   "outputs": [
    {
     "data": {
      "text/plain": [
       "3"
      ]
     },
     "execution_count": 24,
     "metadata": {},
     "output_type": "execute_result"
    }
   ],
   "source": [
    "t.index(4)"
   ]
  },
  {
   "cell_type": "code",
   "execution_count": 26,
   "id": "f3f72ce1",
   "metadata": {},
   "outputs": [],
   "source": [
    "t = (2,3,4,(23,34),\"abc\")"
   ]
  },
  {
   "cell_type": "code",
   "execution_count": 27,
   "id": "53ef5944",
   "metadata": {},
   "outputs": [],
   "source": [
    "t2 = (1,2,3,[23,34,45],(\"sd\",34),45.6)"
   ]
  },
  {
   "cell_type": "code",
   "execution_count": 29,
   "id": "bc38caf1",
   "metadata": {},
   "outputs": [],
   "source": [
    "t2[3][0] = \"abc\" # List element inside tuple can be changed. List is Mutable, Tuple is Immutable"
   ]
  },
  {
   "cell_type": "code",
   "execution_count": 30,
   "id": "d069090b",
   "metadata": {},
   "outputs": [
    {
     "data": {
      "text/plain": [
       "(1, 2, 3, ['abc', 34, 45], ('sd', 34), 45.6)"
      ]
     },
     "execution_count": 30,
     "metadata": {},
     "output_type": "execute_result"
    }
   ],
   "source": [
    "t2"
   ]
  },
  {
   "cell_type": "code",
   "execution_count": 31,
   "id": "719e8b0a",
   "metadata": {},
   "outputs": [],
   "source": [
    "# List can hold Tuple. Vice-versa, Tuple can hold List"
   ]
  },
  {
   "cell_type": "code",
   "execution_count": 32,
   "id": "8555437f",
   "metadata": {},
   "outputs": [],
   "source": [
    "tpl = (1,2,3,4,5)"
   ]
  },
  {
   "cell_type": "code",
   "execution_count": 33,
   "id": "44400d43",
   "metadata": {},
   "outputs": [],
   "source": [
    "lst2 = list(tpl)"
   ]
  },
  {
   "cell_type": "code",
   "execution_count": 34,
   "id": "61efc6af",
   "metadata": {},
   "outputs": [
    {
     "data": {
      "text/plain": [
       "[1, 2, 3, 4, 5]"
      ]
     },
     "execution_count": 34,
     "metadata": {},
     "output_type": "execute_result"
    }
   ],
   "source": [
    "lst2"
   ]
  },
  {
   "cell_type": "code",
   "execution_count": 35,
   "id": "a8732402",
   "metadata": {},
   "outputs": [],
   "source": [
    "tp2 = tuple(lst2*2)"
   ]
  },
  {
   "cell_type": "code",
   "execution_count": 103,
   "id": "e569f2ae",
   "metadata": {},
   "outputs": [
    {
     "data": {
      "text/plain": [
       "(1, 2, 3, 4, 5, 1, 2, 3, 4, 5)"
      ]
     },
     "execution_count": 103,
     "metadata": {},
     "output_type": "execute_result"
    }
   ],
   "source": [
    "tp2"
   ]
  },
  {
   "cell_type": "code",
   "execution_count": 105,
   "id": "c7bed812",
   "metadata": {},
   "outputs": [
    {
     "data": {
      "text/plain": [
       "2"
      ]
     },
     "execution_count": 105,
     "metadata": {},
     "output_type": "execute_result"
    }
   ],
   "source": [
    "t1 = (\"aaaa\", 1+2j, 1, 3.4, True)\n",
    "t1.index(True) # True is internally stored as 1. And in our elements we have 1 at 2nd index."
   ]
  },
  {
   "cell_type": "markdown",
   "id": "024dda2f",
   "metadata": {},
   "source": [
    "# Set - A collection of unique elements"
   ]
  },
  {
   "cell_type": "code",
   "execution_count": 37,
   "id": "7bf5cc47",
   "metadata": {},
   "outputs": [],
   "source": [
    "lst = [1,2,3,4,5,5,5,5,5,5,5,4,3,2,4,5,4,2,2,2,7,8,1,1,1,1] # It's a list"
   ]
  },
  {
   "cell_type": "code",
   "execution_count": 40,
   "id": "2b5fa62a",
   "metadata": {},
   "outputs": [
    {
     "data": {
      "text/plain": [
       "{1, 2, 3, 4, 5, 7, 8}"
      ]
     },
     "execution_count": 40,
     "metadata": {},
     "output_type": "execute_result"
    }
   ],
   "source": [
    "set(lst) # Observation : Set uses curly braces {}"
   ]
  },
  {
   "cell_type": "code",
   "execution_count": 41,
   "id": "19c16736",
   "metadata": {},
   "outputs": [
    {
     "data": {
      "text/plain": [
       "set"
      ]
     },
     "execution_count": 41,
     "metadata": {},
     "output_type": "execute_result"
    }
   ],
   "source": [
    "type(set(lst)) # With elements, it will return type as set"
   ]
  },
  {
   "cell_type": "code",
   "execution_count": 42,
   "id": "a9dd5110",
   "metadata": {},
   "outputs": [
    {
     "data": {
      "text/plain": [
       "dict"
      ]
     },
     "execution_count": 42,
     "metadata": {},
     "output_type": "execute_result"
    }
   ],
   "source": [
    "s = {} # Without elements, type returns dict\n",
    "type(s)"
   ]
  },
  {
   "cell_type": "code",
   "execution_count": 43,
   "id": "6de746f2",
   "metadata": {},
   "outputs": [],
   "source": [
    "s2 = {1,1,2,3,44,4,5,6,6,6,2,2,1,5}"
   ]
  },
  {
   "cell_type": "code",
   "execution_count": 44,
   "id": "47b0f6ea",
   "metadata": {},
   "outputs": [
    {
     "data": {
      "text/plain": [
       "{1, 2, 3, 4, 5, 6, 44}"
      ]
     },
     "execution_count": 44,
     "metadata": {},
     "output_type": "execute_result"
    }
   ],
   "source": [
    "s2 # By default, it will remove duplicate elements"
   ]
  },
  {
   "cell_type": "code",
   "execution_count": 46,
   "id": "89126c0d",
   "metadata": {},
   "outputs": [
    {
     "ename": "TypeError",
     "evalue": "'set' object is not subscriptable",
     "output_type": "error",
     "traceback": [
      "\u001b[1;31m---------------------------------------------------------------------------\u001b[0m",
      "\u001b[1;31mTypeError\u001b[0m                                 Traceback (most recent call last)",
      "\u001b[1;32m~\\AppData\\Local\\Temp/ipykernel_9052/2344841457.py\u001b[0m in \u001b[0;36m<module>\u001b[1;34m\u001b[0m\n\u001b[1;32m----> 1\u001b[1;33m \u001b[0ms2\u001b[0m\u001b[1;33m[\u001b[0m\u001b[1;36m0\u001b[0m\u001b[1;33m]\u001b[0m\u001b[1;33m\u001b[0m\u001b[1;33m\u001b[0m\u001b[0m\n\u001b[0m",
      "\u001b[1;31mTypeError\u001b[0m: 'set' object is not subscriptable"
     ]
    }
   ],
   "source": [
    "s2[0] # Set is an Unordered collection, means it doesn't maintain any indexing"
   ]
  },
  {
   "cell_type": "code",
   "execution_count": 47,
   "id": "a9c4171f",
   "metadata": {},
   "outputs": [],
   "source": [
    "# So how to access set's elements??"
   ]
  },
  {
   "cell_type": "code",
   "execution_count": 48,
   "id": "76c1ca2a",
   "metadata": {},
   "outputs": [
    {
     "data": {
      "text/plain": [
       "1"
      ]
     },
     "execution_count": 48,
     "metadata": {},
     "output_type": "execute_result"
    }
   ],
   "source": [
    "list(s2)[0]"
   ]
  },
  {
   "cell_type": "code",
   "execution_count": 49,
   "id": "7995197c",
   "metadata": {},
   "outputs": [],
   "source": [
    "s2.add(24)"
   ]
  },
  {
   "cell_type": "code",
   "execution_count": 50,
   "id": "108a8e3e",
   "metadata": {},
   "outputs": [
    {
     "data": {
      "text/plain": [
       "{1, 2, 3, 4, 5, 6, 24, 44}"
      ]
     },
     "execution_count": 50,
     "metadata": {},
     "output_type": "execute_result"
    }
   ],
   "source": [
    "s2"
   ]
  },
  {
   "cell_type": "code",
   "execution_count": 51,
   "id": "b4935861",
   "metadata": {},
   "outputs": [],
   "source": [
    "s2.add(24)"
   ]
  },
  {
   "cell_type": "code",
   "execution_count": 52,
   "id": "97d39725",
   "metadata": {},
   "outputs": [
    {
     "data": {
      "text/plain": [
       "{1, 2, 3, 4, 5, 6, 24, 44}"
      ]
     },
     "execution_count": 52,
     "metadata": {},
     "output_type": "execute_result"
    }
   ],
   "source": [
    "s2"
   ]
  },
  {
   "cell_type": "code",
   "execution_count": 53,
   "id": "d65ea759",
   "metadata": {},
   "outputs": [],
   "source": [
    "s2.add(\"aaa\")"
   ]
  },
  {
   "cell_type": "code",
   "execution_count": 54,
   "id": "b6265f00",
   "metadata": {},
   "outputs": [
    {
     "data": {
      "text/plain": [
       "{1, 2, 24, 3, 4, 44, 5, 6, 'aaa'}"
      ]
     },
     "execution_count": 54,
     "metadata": {},
     "output_type": "execute_result"
    }
   ],
   "source": [
    "s2"
   ]
  },
  {
   "cell_type": "code",
   "execution_count": 55,
   "id": "3a09a43c",
   "metadata": {},
   "outputs": [
    {
     "ename": "TypeError",
     "evalue": "unhashable type: 'list'",
     "output_type": "error",
     "traceback": [
      "\u001b[1;31m---------------------------------------------------------------------------\u001b[0m",
      "\u001b[1;31mTypeError\u001b[0m                                 Traceback (most recent call last)",
      "\u001b[1;32m~\\AppData\\Local\\Temp/ipykernel_9052/1344954227.py\u001b[0m in \u001b[0;36m<module>\u001b[1;34m\u001b[0m\n\u001b[1;32m----> 1\u001b[1;33m \u001b[0ms2\u001b[0m\u001b[1;33m.\u001b[0m\u001b[0madd\u001b[0m\u001b[1;33m(\u001b[0m\u001b[1;33m[\u001b[0m\u001b[1;36m2\u001b[0m\u001b[1;33m,\u001b[0m\u001b[1;36m3\u001b[0m\u001b[1;33m,\u001b[0m\u001b[1;36m4\u001b[0m\u001b[1;33m,\u001b[0m\u001b[1;36m5\u001b[0m\u001b[1;33m]\u001b[0m\u001b[1;33m)\u001b[0m\u001b[1;33m\u001b[0m\u001b[1;33m\u001b[0m\u001b[0m\n\u001b[0m",
      "\u001b[1;31mTypeError\u001b[0m: unhashable type: 'list'"
     ]
    }
   ],
   "source": [
    "s2.add([2,3,4,5]) # List is Mutable"
   ]
  },
  {
   "cell_type": "code",
   "execution_count": 56,
   "id": "14c1adc2",
   "metadata": {},
   "outputs": [],
   "source": [
    "s2.add((2,3,4,5)) # Anything Immutable allowed as unique elements."
   ]
  },
  {
   "cell_type": "code",
   "execution_count": 57,
   "id": "86919b82",
   "metadata": {},
   "outputs": [
    {
     "data": {
      "text/plain": [
       "{(2, 3, 4, 5), 1, 2, 24, 3, 4, 44, 5, 6, 'aaa'}"
      ]
     },
     "execution_count": 57,
     "metadata": {},
     "output_type": "execute_result"
    }
   ],
   "source": [
    "s2"
   ]
  },
  {
   "cell_type": "code",
   "execution_count": 60,
   "id": "d8ee3da5",
   "metadata": {},
   "outputs": [],
   "source": [
    "s = {(2, 3, 4, 5), 1, 2, 24, (2, 3, 4, 5), 3, 4, 44, 5, 6, (22, 23, 44, 55), 'aaa'}"
   ]
  },
  {
   "cell_type": "code",
   "execution_count": 61,
   "id": "f5b7efac",
   "metadata": {},
   "outputs": [
    {
     "data": {
      "text/plain": [
       "{(2, 3, 4, 5), (22, 23, 44, 55), 1, 2, 24, 3, 4, 44, 5, 6, 'aaa'}"
      ]
     },
     "execution_count": 61,
     "metadata": {},
     "output_type": "execute_result"
    }
   ],
   "source": [
    "s # Only one tuple from duplicate is allowed"
   ]
  },
  {
   "cell_type": "code",
   "execution_count": 62,
   "id": "7d7db629",
   "metadata": {},
   "outputs": [],
   "source": [
    "s.remove(5)"
   ]
  },
  {
   "cell_type": "code",
   "execution_count": 63,
   "id": "753f2c79",
   "metadata": {},
   "outputs": [
    {
     "data": {
      "text/plain": [
       "{(2, 3, 4, 5), (22, 23, 44, 55), 1, 2, 24, 3, 4, 44, 6, 'aaa'}"
      ]
     },
     "execution_count": 63,
     "metadata": {},
     "output_type": "execute_result"
    }
   ],
   "source": [
    "s"
   ]
  },
  {
   "cell_type": "code",
   "execution_count": 64,
   "id": "f8de20c9",
   "metadata": {},
   "outputs": [],
   "source": [
    "s.discard(3)"
   ]
  },
  {
   "cell_type": "code",
   "execution_count": 65,
   "id": "b09a4be6",
   "metadata": {},
   "outputs": [
    {
     "data": {
      "text/plain": [
       "{(2, 3, 4, 5), (22, 23, 44, 55), 1, 2, 24, 4, 44, 6, 'aaa'}"
      ]
     },
     "execution_count": 65,
     "metadata": {},
     "output_type": "execute_result"
    }
   ],
   "source": [
    "s"
   ]
  },
  {
   "cell_type": "code",
   "execution_count": 66,
   "id": "40d7dc3d",
   "metadata": {},
   "outputs": [
    {
     "ename": "KeyError",
     "evalue": "'bbb'",
     "output_type": "error",
     "traceback": [
      "\u001b[1;31m---------------------------------------------------------------------------\u001b[0m",
      "\u001b[1;31mKeyError\u001b[0m                                  Traceback (most recent call last)",
      "\u001b[1;32m~\\AppData\\Local\\Temp/ipykernel_9052/1896165560.py\u001b[0m in \u001b[0;36m<module>\u001b[1;34m\u001b[0m\n\u001b[1;32m----> 1\u001b[1;33m \u001b[0ms\u001b[0m\u001b[1;33m.\u001b[0m\u001b[0mremove\u001b[0m\u001b[1;33m(\u001b[0m\u001b[1;34m\"bbb\"\u001b[0m\u001b[1;33m)\u001b[0m\u001b[1;33m\u001b[0m\u001b[1;33m\u001b[0m\u001b[0m\n\u001b[0m",
      "\u001b[1;31mKeyError\u001b[0m: 'bbb'"
     ]
    }
   ],
   "source": [
    "s.remove(\"bbb\") # If element not a mamber, ERROR thrown"
   ]
  },
  {
   "cell_type": "code",
   "execution_count": 67,
   "id": "f543fcc3",
   "metadata": {},
   "outputs": [],
   "source": [
    "s.discard(\"bbb\") # If element not a mamber, NO ERROR thrown"
   ]
  },
  {
   "cell_type": "code",
   "execution_count": 68,
   "id": "82a04086",
   "metadata": {},
   "outputs": [
    {
     "data": {
      "text/plain": [
       "{'Aa', 'aa'}"
      ]
     },
     "execution_count": 68,
     "metadata": {},
     "output_type": "execute_result"
    }
   ],
   "source": [
    "{\"aa\", \"Aa\"}"
   ]
  },
  {
   "cell_type": "markdown",
   "id": "6d4ed889",
   "metadata": {},
   "source": [
    "# Dict - Key : Value pairs"
   ]
  },
  {
   "cell_type": "code",
   "execution_count": 69,
   "id": "c98cda39",
   "metadata": {},
   "outputs": [],
   "source": [
    "# d = {Key: Value}\n",
    "d = {4: \"aaa\", 5: 2334, \"one\": [1,2,3,4]}"
   ]
  },
  {
   "cell_type": "code",
   "execution_count": 70,
   "id": "f0f0866d",
   "metadata": {},
   "outputs": [
    {
     "data": {
      "text/plain": [
       "{4: 'aaa', 5: 2334, 'one': [1, 2, 3, 4]}"
      ]
     },
     "execution_count": 70,
     "metadata": {},
     "output_type": "execute_result"
    }
   ],
   "source": [
    "d"
   ]
  },
  {
   "cell_type": "code",
   "execution_count": 71,
   "id": "b6d7ce2d",
   "metadata": {},
   "outputs": [
    {
     "data": {
      "text/plain": [
       "[1, 2, 3, 4]"
      ]
     },
     "execution_count": 71,
     "metadata": {},
     "output_type": "execute_result"
    }
   ],
   "source": [
    "d[\"one\"]"
   ]
  },
  {
   "cell_type": "code",
   "execution_count": 72,
   "id": "63c33099",
   "metadata": {},
   "outputs": [
    {
     "data": {
      "text/plain": [
       "2"
      ]
     },
     "execution_count": 72,
     "metadata": {},
     "output_type": "execute_result"
    }
   ],
   "source": [
    "d[\"one\"][1]"
   ]
  },
  {
   "cell_type": "code",
   "execution_count": 73,
   "id": "f62cb1e4",
   "metadata": {},
   "outputs": [],
   "source": [
    "d[\"one\"] = \"xyz\""
   ]
  },
  {
   "cell_type": "code",
   "execution_count": 74,
   "id": "6f97fa5c",
   "metadata": {},
   "outputs": [
    {
     "data": {
      "text/plain": [
       "{4: 'aaa', 5: 2334, 'one': 'xyz'}"
      ]
     },
     "execution_count": 74,
     "metadata": {},
     "output_type": "execute_result"
    }
   ],
   "source": [
    "d"
   ]
  },
  {
   "cell_type": "code",
   "execution_count": 75,
   "id": "929cc494",
   "metadata": {},
   "outputs": [],
   "source": [
    "d1 = {\"key1\": [2,3,4,5], \"key2\": \"aaa\", \"key1\": 45} # Duplicate Key in declaration"
   ]
  },
  {
   "cell_type": "code",
   "execution_count": 76,
   "id": "94f5a0c9",
   "metadata": {},
   "outputs": [
    {
     "data": {
      "text/plain": [
       "45"
      ]
     },
     "execution_count": 76,
     "metadata": {},
     "output_type": "execute_result"
    }
   ],
   "source": [
    "d1[\"key1\"] # It will return the recent update"
   ]
  },
  {
   "cell_type": "code",
   "execution_count": 77,
   "id": "e29f45de",
   "metadata": {},
   "outputs": [
    {
     "ename": "NameError",
     "evalue": "name 'key1' is not defined",
     "output_type": "error",
     "traceback": [
      "\u001b[1;31m---------------------------------------------------------------------------\u001b[0m",
      "\u001b[1;31mNameError\u001b[0m                                 Traceback (most recent call last)",
      "\u001b[1;32m~\\AppData\\Local\\Temp/ipykernel_9052/1263309057.py\u001b[0m in \u001b[0;36m<module>\u001b[1;34m\u001b[0m\n\u001b[1;32m----> 1\u001b[1;33m \u001b[0md2\u001b[0m \u001b[1;33m=\u001b[0m \u001b[1;33m{\u001b[0m\u001b[0mkey1\u001b[0m\u001b[1;33m:\u001b[0m \u001b[1;36m123\u001b[0m\u001b[1;33m,\u001b[0m \u001b[0mkey2\u001b[0m\u001b[1;33m:\u001b[0m \u001b[1;33m[\u001b[0m\u001b[1;36m23\u001b[0m\u001b[1;33m,\u001b[0m\u001b[1;36m34\u001b[0m\u001b[1;33m]\u001b[0m\u001b[1;33m}\u001b[0m\u001b[1;33m\u001b[0m\u001b[1;33m\u001b[0m\u001b[0m\n\u001b[0m",
      "\u001b[1;31mNameError\u001b[0m: name 'key1' is not defined"
     ]
    }
   ],
   "source": [
    "d2 = {key1: 123, key2: [23,34]}"
   ]
  },
  {
   "cell_type": "code",
   "execution_count": 79,
   "id": "ab787e9e",
   "metadata": {},
   "outputs": [],
   "source": [
    "d = {\"name\": \"abcd\", \"ph_num\": 2343543454, \"mail_id\": \"someone@email.com\", \"key1\": [2,3,4], \"key2\": (12,13,14), \"key3\":{2,3,4,4,3,5,5,2,3}, \"key4\": {1:5, 2:8}}"
   ]
  },
  {
   "cell_type": "code",
   "execution_count": 80,
   "id": "42d97c1b",
   "metadata": {},
   "outputs": [
    {
     "data": {
      "text/plain": [
       "{'name': 'abcd',\n",
       " 'ph_num': 2343543454,\n",
       " 'mail_id': 'someone@email.com',\n",
       " 'key1': [2, 3, 4],\n",
       " 'key2': (12, 13, 14),\n",
       " 'key3': {2, 3, 4, 5},\n",
       " 'key4': {1: 5, 2: 8}}"
      ]
     },
     "execution_count": 80,
     "metadata": {},
     "output_type": "execute_result"
    }
   ],
   "source": [
    "d # we stored strings. In keys, we stored list, tuple, set, dict --- all in one outer dict"
   ]
  },
  {
   "cell_type": "code",
   "execution_count": 81,
   "id": "8341c168",
   "metadata": {},
   "outputs": [
    {
     "data": {
      "text/plain": [
       "set"
      ]
     },
     "execution_count": 81,
     "metadata": {},
     "output_type": "execute_result"
    }
   ],
   "source": [
    "type(d[\"key3\"])"
   ]
  },
  {
   "cell_type": "code",
   "execution_count": 83,
   "id": "ee0aeab8",
   "metadata": {},
   "outputs": [
    {
     "data": {
      "text/plain": [
       "8"
      ]
     },
     "execution_count": 83,
     "metadata": {},
     "output_type": "execute_result"
    }
   ],
   "source": [
    "d[\"key4\"][2] # Accessing dict inside dict"
   ]
  },
  {
   "cell_type": "code",
   "execution_count": 85,
   "id": "6702e8b7",
   "metadata": {},
   "outputs": [
    {
     "data": {
      "text/plain": [
       "dict_keys(['name', 'ph_num', 'mail_id', 'key1', 'key2', 'key3', 'key4'])"
      ]
     },
     "execution_count": 85,
     "metadata": {},
     "output_type": "execute_result"
    }
   ],
   "source": [
    "d.keys()"
   ]
  },
  {
   "cell_type": "code",
   "execution_count": 86,
   "id": "73f8e175",
   "metadata": {},
   "outputs": [
    {
     "data": {
      "text/plain": [
       "dict_values(['abcd', 2343543454, 'someone@email.com', [2, 3, 4], (12, 13, 14), {2, 3, 4, 5}, {1: 5, 2: 8}])"
      ]
     },
     "execution_count": 86,
     "metadata": {},
     "output_type": "execute_result"
    }
   ],
   "source": [
    "d.values()"
   ]
  },
  {
   "cell_type": "code",
   "execution_count": 84,
   "id": "ab119846",
   "metadata": {},
   "outputs": [
    {
     "data": {
      "text/plain": [
       "dict_items([('name', 'abcd'), ('ph_num', 2343543454), ('mail_id', 'someone@email.com'), ('key1', [2, 3, 4]), ('key2', (12, 13, 14)), ('key3', {2, 3, 4, 5}), ('key4', {1: 5, 2: 8})])"
      ]
     },
     "execution_count": 84,
     "metadata": {},
     "output_type": "execute_result"
    }
   ],
   "source": [
    "d.items()"
   ]
  },
  {
   "cell_type": "code",
   "execution_count": 87,
   "id": "8311232e",
   "metadata": {},
   "outputs": [
    {
     "data": {
      "text/plain": [
       "dict_items"
      ]
     },
     "execution_count": 87,
     "metadata": {},
     "output_type": "execute_result"
    }
   ],
   "source": [
    "type(d.items())"
   ]
  },
  {
   "cell_type": "code",
   "execution_count": 88,
   "id": "fec0998c",
   "metadata": {},
   "outputs": [],
   "source": [
    "d[\"key5\"] = \"werwer\""
   ]
  },
  {
   "cell_type": "code",
   "execution_count": 89,
   "id": "6dc6b853",
   "metadata": {},
   "outputs": [
    {
     "data": {
      "text/plain": [
       "{'name': 'abcd',\n",
       " 'ph_num': 2343543454,\n",
       " 'mail_id': 'someone@email.com',\n",
       " 'key1': [2, 3, 4],\n",
       " 'key2': (12, 13, 14),\n",
       " 'key3': {2, 3, 4, 5},\n",
       " 'key4': {1: 5, 2: 8},\n",
       " 'key5': 'werwer'}"
      ]
     },
     "execution_count": 89,
     "metadata": {},
     "output_type": "execute_result"
    }
   ],
   "source": [
    "d"
   ]
  },
  {
   "cell_type": "code",
   "execution_count": 90,
   "id": "9ab2383c",
   "metadata": {},
   "outputs": [],
   "source": [
    "del d[\"key5\"]"
   ]
  },
  {
   "cell_type": "code",
   "execution_count": 91,
   "id": "b297a30c",
   "metadata": {},
   "outputs": [
    {
     "data": {
      "text/plain": [
       "{'name': 'abcd',\n",
       " 'ph_num': 2343543454,\n",
       " 'mail_id': 'someone@email.com',\n",
       " 'key1': [2, 3, 4],\n",
       " 'key2': (12, 13, 14),\n",
       " 'key3': {2, 3, 4, 5},\n",
       " 'key4': {1: 5, 2: 8}}"
      ]
     },
     "execution_count": 91,
     "metadata": {},
     "output_type": "execute_result"
    }
   ],
   "source": [
    "d"
   ]
  },
  {
   "cell_type": "code",
   "execution_count": 92,
   "id": "3cd484ee",
   "metadata": {},
   "outputs": [],
   "source": [
    "del d"
   ]
  },
  {
   "cell_type": "code",
   "execution_count": 93,
   "id": "b6d270d4",
   "metadata": {},
   "outputs": [],
   "source": [
    "d1 = {\"key1\": [2,3,4], \"key2\": (12,13,14), \"key3\":{2,3,4,4,3,5,5,2,3}, \"key4\": {1:5, 2:8}}"
   ]
  },
  {
   "cell_type": "code",
   "execution_count": 94,
   "id": "964be4c7",
   "metadata": {},
   "outputs": [
    {
     "ename": "TypeError",
     "evalue": "unhashable type: 'list'",
     "output_type": "error",
     "traceback": [
      "\u001b[1;31m---------------------------------------------------------------------------\u001b[0m",
      "\u001b[1;31mTypeError\u001b[0m                                 Traceback (most recent call last)",
      "\u001b[1;32m~\\AppData\\Local\\Temp/ipykernel_9052/2984234341.py\u001b[0m in \u001b[0;36m<module>\u001b[1;34m\u001b[0m\n\u001b[1;32m----> 1\u001b[1;33m \u001b[0md1\u001b[0m\u001b[1;33m[\u001b[0m\u001b[1;33m[\u001b[0m\u001b[1;36m1\u001b[0m\u001b[1;33m,\u001b[0m\u001b[1;36m2\u001b[0m\u001b[1;33m,\u001b[0m\u001b[1;36m3\u001b[0m\u001b[1;33m]\u001b[0m\u001b[1;33m]\u001b[0m \u001b[1;33m=\u001b[0m \u001b[1;34m\"aaaa\"\u001b[0m \u001b[1;31m# list as key\u001b[0m\u001b[1;33m\u001b[0m\u001b[1;33m\u001b[0m\u001b[0m\n\u001b[0m",
      "\u001b[1;31mTypeError\u001b[0m: unhashable type: 'list'"
     ]
    }
   ],
   "source": [
    "d1[[1,2,3]] = \"aaaa\" # list as key"
   ]
  },
  {
   "cell_type": "code",
   "execution_count": 95,
   "id": "4b6f157d",
   "metadata": {},
   "outputs": [],
   "source": [
    "d1[(1,2,3)] = \"aaaa\" # tuple as key - all immutable work as key"
   ]
  },
  {
   "cell_type": "code",
   "execution_count": 96,
   "id": "49ed0290",
   "metadata": {},
   "outputs": [
    {
     "data": {
      "text/plain": [
       "{'key1': [2, 3, 4],\n",
       " 'key2': (12, 13, 14),\n",
       " 'key3': {2, 3, 4, 5},\n",
       " 'key4': {1: 5, 2: 8},\n",
       " (1, 2, 3): 'aaaa'}"
      ]
     },
     "execution_count": 96,
     "metadata": {},
     "output_type": "execute_result"
    }
   ],
   "source": [
    "d1"
   ]
  },
  {
   "cell_type": "code",
   "execution_count": 97,
   "id": "15de8e90",
   "metadata": {},
   "outputs": [
    {
     "ename": "TypeError",
     "evalue": "unhashable type: 'set'",
     "output_type": "error",
     "traceback": [
      "\u001b[1;31m---------------------------------------------------------------------------\u001b[0m",
      "\u001b[1;31mTypeError\u001b[0m                                 Traceback (most recent call last)",
      "\u001b[1;32m~\\AppData\\Local\\Temp/ipykernel_9052/528583978.py\u001b[0m in \u001b[0;36m<module>\u001b[1;34m\u001b[0m\n\u001b[1;32m----> 1\u001b[1;33m \u001b[0md1\u001b[0m\u001b[1;33m[\u001b[0m\u001b[1;33m{\u001b[0m\u001b[1;36m1\u001b[0m\u001b[1;33m,\u001b[0m\u001b[1;36m2\u001b[0m\u001b[1;33m,\u001b[0m\u001b[1;36m3\u001b[0m\u001b[1;33m}\u001b[0m\u001b[1;33m]\u001b[0m \u001b[1;33m=\u001b[0m \u001b[1;34m\"bbbb\"\u001b[0m\u001b[1;33m\u001b[0m\u001b[1;33m\u001b[0m\u001b[0m\n\u001b[0m",
      "\u001b[1;31mTypeError\u001b[0m: unhashable type: 'set'"
     ]
    }
   ],
   "source": [
    "d1[{1,2,3}] = \"bbbb\""
   ]
  },
  {
   "cell_type": "code",
   "execution_count": 98,
   "id": "ae3a2c1f",
   "metadata": {},
   "outputs": [],
   "source": [
    "d1 = {\"key1\": [2,3,4], \"key2\": (12,13,14), \"key3\":{2,3,4,4,3,5,5,2,3}, \"key4\": {1:5, 2:8}}\n",
    "d2 = {\"key5\": \"aaaaa\"}"
   ]
  },
  {
   "cell_type": "code",
   "execution_count": 99,
   "id": "97573e87",
   "metadata": {},
   "outputs": [],
   "source": [
    "d1.update(d2)"
   ]
  },
  {
   "cell_type": "code",
   "execution_count": 100,
   "id": "3f6485c8",
   "metadata": {},
   "outputs": [
    {
     "data": {
      "text/plain": [
       "{'key1': [2, 3, 4],\n",
       " 'key2': (12, 13, 14),\n",
       " 'key3': {2, 3, 4, 5},\n",
       " 'key4': {1: 5, 2: 8},\n",
       " 'key5': 'aaaaa'}"
      ]
     },
     "execution_count": 100,
     "metadata": {},
     "output_type": "execute_result"
    }
   ],
   "source": [
    "d1"
   ]
  },
  {
   "cell_type": "code",
   "execution_count": 101,
   "id": "8f7f6c27",
   "metadata": {},
   "outputs": [
    {
     "data": {
      "text/plain": [
       "{'key5': 'aaaaa'}"
      ]
     },
     "execution_count": 101,
     "metadata": {},
     "output_type": "execute_result"
    }
   ],
   "source": [
    "d2"
   ]
  },
  {
   "cell_type": "code",
   "execution_count": 102,
   "id": "3491fb47",
   "metadata": {},
   "outputs": [
    {
     "ename": "TypeError",
     "evalue": "unsupported operand type(s) for +: 'dict' and 'dict'",
     "output_type": "error",
     "traceback": [
      "\u001b[1;31m---------------------------------------------------------------------------\u001b[0m",
      "\u001b[1;31mTypeError\u001b[0m                                 Traceback (most recent call last)",
      "\u001b[1;32m~\\AppData\\Local\\Temp/ipykernel_9052/833095442.py\u001b[0m in \u001b[0;36m<module>\u001b[1;34m\u001b[0m\n\u001b[1;32m----> 1\u001b[1;33m \u001b[0md1\u001b[0m\u001b[1;33m+\u001b[0m\u001b[0md2\u001b[0m\u001b[1;33m\u001b[0m\u001b[1;33m\u001b[0m\u001b[0m\n\u001b[0m",
      "\u001b[1;31mTypeError\u001b[0m: unsupported operand type(s) for +: 'dict' and 'dict'"
     ]
    }
   ],
   "source": [
    "d1+d2 # + works on list, not on dict"
   ]
  },
  {
   "cell_type": "code",
   "execution_count": null,
   "id": "909f6241",
   "metadata": {},
   "outputs": [],
   "source": []
  }
 ],
 "metadata": {
  "kernelspec": {
   "display_name": "Python 3 (ipykernel)",
   "language": "python",
   "name": "python3"
  },
  "language_info": {
   "codemirror_mode": {
    "name": "ipython",
    "version": 3
   },
   "file_extension": ".py",
   "mimetype": "text/x-python",
   "name": "python",
   "nbconvert_exporter": "python",
   "pygments_lexer": "ipython3",
   "version": "3.9.7"
  }
 },
 "nbformat": 4,
 "nbformat_minor": 5
}
