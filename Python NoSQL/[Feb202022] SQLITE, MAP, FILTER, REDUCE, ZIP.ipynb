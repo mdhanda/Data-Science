{
 "cells": [
  {
   "cell_type": "code",
   "execution_count": 3,
   "id": "c2921e6f",
   "metadata": {},
   "outputs": [],
   "source": [
    "import sqlite3 as sq"
   ]
  },
  {
   "cell_type": "code",
   "execution_count": 4,
   "id": "4cd8245c",
   "metadata": {},
   "outputs": [],
   "source": [
    "db = sq.connect(\"ineuron.db\")"
   ]
  },
  {
   "cell_type": "code",
   "execution_count": 5,
   "id": "474fa75c",
   "metadata": {},
   "outputs": [],
   "source": [
    "c = db.cursor()"
   ]
  },
  {
   "cell_type": "code",
   "execution_count": 4,
   "id": "cddaf236",
   "metadata": {},
   "outputs": [
    {
     "data": {
      "text/plain": [
       "<sqlite3.Cursor at 0x140a0c6b490>"
      ]
     },
     "execution_count": 4,
     "metadata": {},
     "output_type": "execute_result"
    }
   ],
   "source": [
    "c.execute('create table fsds(name text, batchid int, marks real)')"
   ]
  },
  {
   "cell_type": "code",
   "execution_count": 15,
   "id": "3c2dcba9",
   "metadata": {},
   "outputs": [
    {
     "data": {
      "text/plain": [
       "<sqlite3.Cursor at 0x11cbb5e9ce0>"
      ]
     },
     "execution_count": 15,
     "metadata": {},
     "output_type": "execute_result"
    }
   ],
   "source": [
    "c.execute(\"insert into fsds values('Manu', 34535, 423.23)\")\n",
    "c.execute(\"insert into fsds values('Anu', 45667, 236.23),('Maanav', 12567, 548.05),('Priyanshi', 23354, 478.28)\")"
   ]
  },
  {
   "cell_type": "code",
   "execution_count": 16,
   "id": "e9931582",
   "metadata": {},
   "outputs": [],
   "source": [
    "data = c.execute('select * from fsds')"
   ]
  },
  {
   "cell_type": "code",
   "execution_count": 17,
   "id": "aa01cc3c",
   "metadata": {},
   "outputs": [
    {
     "name": "stdout",
     "output_type": "stream",
     "text": [
      "('Manu', 34535, 423.23)\n",
      "('Manu', 34535, 423.23)\n",
      "('Anu', 45667, 236.23)\n",
      "('Maanav', 12567, 548.05)\n",
      "('Priyanshi', 23354, 478.28)\n"
     ]
    }
   ],
   "source": [
    "for i in data:\n",
    "    print(i)"
   ]
  },
  {
   "cell_type": "code",
   "execution_count": 18,
   "id": "61d91233",
   "metadata": {},
   "outputs": [],
   "source": [
    "db.commit()\n",
    "db.close()"
   ]
  },
  {
   "cell_type": "code",
   "execution_count": 19,
   "id": "89f7e2c1",
   "metadata": {},
   "outputs": [],
   "source": [
    "db = sq.connect('ineuron.db')"
   ]
  },
  {
   "cell_type": "code",
   "execution_count": 21,
   "id": "02babee5",
   "metadata": {},
   "outputs": [],
   "source": [
    "c = db.cursor()"
   ]
  },
  {
   "cell_type": "code",
   "execution_count": 22,
   "id": "1cc4d8b1",
   "metadata": {},
   "outputs": [],
   "source": [
    "data = c.execute('select * from fsds where marks > 400')"
   ]
  },
  {
   "cell_type": "code",
   "execution_count": 23,
   "id": "11b5c7c3",
   "metadata": {},
   "outputs": [
    {
     "name": "stdout",
     "output_type": "stream",
     "text": [
      "('Manu', 34535, 423.23)\n",
      "('Manu', 34535, 423.23)\n",
      "('Maanav', 12567, 548.05)\n",
      "('Priyanshi', 23354, 478.28)\n"
     ]
    }
   ],
   "source": [
    "for i in data:\n",
    "    print(i)"
   ]
  },
  {
   "cell_type": "code",
   "execution_count": 24,
   "id": "7b5060d6",
   "metadata": {},
   "outputs": [],
   "source": [
    "data = c.execute('select name, marks from fsds order by marks')"
   ]
  },
  {
   "cell_type": "code",
   "execution_count": 25,
   "id": "21004233",
   "metadata": {},
   "outputs": [
    {
     "name": "stdout",
     "output_type": "stream",
     "text": [
      "('Anu', 236.23)\n",
      "('Manu', 423.23)\n",
      "('Manu', 423.23)\n",
      "('Priyanshi', 478.28)\n",
      "('Maanav', 548.05)\n"
     ]
    }
   ],
   "source": [
    "for i in data:\n",
    "    print(i)"
   ]
  },
  {
   "cell_type": "code",
   "execution_count": 26,
   "id": "e8c913ad",
   "metadata": {},
   "outputs": [],
   "source": [
    "db.close()"
   ]
  },
  {
   "cell_type": "code",
   "execution_count": 27,
   "id": "ec554445",
   "metadata": {},
   "outputs": [],
   "source": [
    "db = sq.connect('joindb.db')"
   ]
  },
  {
   "cell_type": "code",
   "execution_count": 28,
   "id": "91801011",
   "metadata": {},
   "outputs": [],
   "source": [
    "c = db.cursor()"
   ]
  },
  {
   "cell_type": "code",
   "execution_count": 29,
   "id": "65583db3",
   "metadata": {},
   "outputs": [
    {
     "data": {
      "text/plain": [
       "<sqlite3.Cursor at 0x11cbb604dc0>"
      ]
     },
     "execution_count": 29,
     "metadata": {},
     "output_type": "execute_result"
    }
   ],
   "source": [
    "c.execute('create table student(student_id int, student_name text, student_mailid text, marks int)')\n",
    "c.execute('create table address(student_id int, postcode int, location text, nearby text, phone_no int)')"
   ]
  },
  {
   "cell_type": "code",
   "execution_count": 31,
   "id": "6485cf00",
   "metadata": {},
   "outputs": [
    {
     "data": {
      "text/plain": [
       "<sqlite3.Cursor at 0x11cbb604dc0>"
      ]
     },
     "execution_count": 31,
     "metadata": {},
     "output_type": "execute_result"
    }
   ],
   "source": [
    "c.execute(\"insert into student values(234, 'Manu', 'manu@ineuron.ai', 234)\")\n",
    "c.execute(\"insert into student values(235, 'Manu', 'manu@ineuron.ai', 234)\")\n",
    "c.execute(\"insert into student values(236, 'Manu', 'manu@ineuron.ai', 234)\")\n",
    "c.execute(\"insert into student values(237, 'Manu', 'manu@ineuron.ai', 234)\")\n",
    "c.execute(\"insert into student values(238, 'Manu', 'manu@ineuron.ai', 234)\")"
   ]
  },
  {
   "cell_type": "code",
   "execution_count": 37,
   "id": "0c5a56c9",
   "metadata": {},
   "outputs": [
    {
     "data": {
      "text/plain": [
       "<sqlite3.Cursor at 0x11cbb604dc0>"
      ]
     },
     "execution_count": 37,
     "metadata": {},
     "output_type": "execute_result"
    }
   ],
   "source": [
    "c.execute(\"insert into address values(234, 2153, 'NSW', 'Hills Shire', 565765768)\")\n",
    "c.execute(\"insert into address values(234, 2153, 'NSW', 'Hills Shire', 565765768)\")"
   ]
  },
  {
   "cell_type": "code",
   "execution_count": 38,
   "id": "620539cf",
   "metadata": {},
   "outputs": [],
   "source": [
    "data = c.execute('select * from student s left join address a on s.student_id=a.student_id where a.student_id is not null')"
   ]
  },
  {
   "cell_type": "code",
   "execution_count": 39,
   "id": "98fed96f",
   "metadata": {},
   "outputs": [
    {
     "name": "stdout",
     "output_type": "stream",
     "text": [
      "(234, 'Manu', 'manu@ineuron.ai', 234, 234, 2153, 'NSW', 'Hills Shire', 565765768)\n",
      "(234, 'Manu', 'manu@ineuron.ai', 234, 234, 2153, 'NSW', 'Hills Shire', 565765768)\n",
      "(234, 'Manu', 'manu@ineuron.ai', 234, 234, 2153, 'NSW', 'Hills Shire', 565765768)\n",
      "(234, 'Manu', 'manu@ineuron.ai', 234, 234, 2153, 'NSW', 'Hills Shire', 565765768)\n",
      "(234, 'Manu', 'manu@ineuron.ai', 234, 234, 2153, 'NSW', 'Hills Shire', 565765768)\n",
      "(234, 'Manu', 'manu@ineuron.ai', 234, 234, 2153, 'NSW', 'Hills Shire', 565765768)\n",
      "(234, 'Manu', 'manu@ineuron.ai', 234, 234, 2153, 'NSW', 'Hills Shire', 565765768)\n",
      "(234, 'Manu', 'manu@ineuron.ai', 234, 234, 2153, 'NSW', 'Hills Shire', 565765768)\n",
      "(234, 'Manu', 'manu@ineuron.ai', 234, 234, 2153, 'NSW', 'Hills Shire', 565765768)\n",
      "(234, 'Manu', 'manu@ineuron.ai', 234, 234, 2153, 'NSW', 'Hills Shire', 565765768)\n"
     ]
    }
   ],
   "source": [
    "for i in data:\n",
    "    print(i)"
   ]
  },
  {
   "cell_type": "code",
   "execution_count": 40,
   "id": "6a165a96",
   "metadata": {},
   "outputs": [],
   "source": [
    "# 2nd half"
   ]
  },
  {
   "cell_type": "code",
   "execution_count": 41,
   "id": "535b5ca1",
   "metadata": {},
   "outputs": [],
   "source": [
    "l = [1,2,3,4,5]\n",
    "l1 = []\n",
    "for i in l:\n",
    "    l1.append(i+5)"
   ]
  },
  {
   "cell_type": "code",
   "execution_count": 42,
   "id": "b318e742",
   "metadata": {},
   "outputs": [
    {
     "data": {
      "text/plain": [
       "[6, 7, 8, 9, 10]"
      ]
     },
     "execution_count": 42,
     "metadata": {},
     "output_type": "execute_result"
    }
   ],
   "source": [
    "l1"
   ]
  },
  {
   "cell_type": "code",
   "execution_count": 43,
   "id": "e423c5b5",
   "metadata": {},
   "outputs": [
    {
     "data": {
      "text/plain": [
       "[6, 7, 8, 9, 10]"
      ]
     },
     "execution_count": 43,
     "metadata": {},
     "output_type": "execute_result"
    }
   ],
   "source": [
    "[i+5 for i in l]"
   ]
  },
  {
   "cell_type": "code",
   "execution_count": 45,
   "id": "8e50e6ba",
   "metadata": {},
   "outputs": [],
   "source": [
    "def test(a):\n",
    "    return a + 5"
   ]
  },
  {
   "cell_type": "code",
   "execution_count": 44,
   "id": "579ece62",
   "metadata": {},
   "outputs": [],
   "source": [
    "# Map function"
   ]
  },
  {
   "cell_type": "code",
   "execution_count": 46,
   "id": "6008e51f",
   "metadata": {},
   "outputs": [
    {
     "data": {
      "text/plain": [
       "<map at 0x11cbd932700>"
      ]
     },
     "execution_count": 46,
     "metadata": {},
     "output_type": "execute_result"
    }
   ],
   "source": [
    "map(test, l)"
   ]
  },
  {
   "cell_type": "code",
   "execution_count": 47,
   "id": "1b07cf79",
   "metadata": {},
   "outputs": [
    {
     "data": {
      "text/plain": [
       "[6, 7, 8, 9, 10]"
      ]
     },
     "execution_count": 47,
     "metadata": {},
     "output_type": "execute_result"
    }
   ],
   "source": [
    "list(map(test, l))"
   ]
  },
  {
   "cell_type": "code",
   "execution_count": 48,
   "id": "f08be543",
   "metadata": {},
   "outputs": [],
   "source": [
    "l1 = ['234', '345', '456', '567']"
   ]
  },
  {
   "cell_type": "code",
   "execution_count": 50,
   "id": "a5012974",
   "metadata": {},
   "outputs": [],
   "source": [
    "def test2(a):\n",
    "    return int(a)"
   ]
  },
  {
   "cell_type": "code",
   "execution_count": 51,
   "id": "1999e912",
   "metadata": {},
   "outputs": [
    {
     "data": {
      "text/plain": [
       "[234, 345, 456, 567]"
      ]
     },
     "execution_count": 51,
     "metadata": {},
     "output_type": "execute_result"
    }
   ],
   "source": [
    "list(map(test2, l1))"
   ]
  },
  {
   "cell_type": "code",
   "execution_count": 52,
   "id": "4cfb52d5",
   "metadata": {},
   "outputs": [
    {
     "data": {
      "text/plain": [
       "[6, 7, 8, 9, 10]"
      ]
     },
     "execution_count": 52,
     "metadata": {},
     "output_type": "execute_result"
    }
   ],
   "source": [
    "list(map(lambda a: a+5, l))"
   ]
  },
  {
   "cell_type": "code",
   "execution_count": 53,
   "id": "a4afc196",
   "metadata": {},
   "outputs": [
    {
     "data": {
      "text/plain": [
       "[234, 345, 456, 567]"
      ]
     },
     "execution_count": 53,
     "metadata": {},
     "output_type": "execute_result"
    }
   ],
   "source": [
    "list(map(lambda a: int(a), l1))"
   ]
  },
  {
   "cell_type": "code",
   "execution_count": null,
   "id": "1c3f3f17",
   "metadata": {},
   "outputs": [],
   "source": [
    "# Filter function"
   ]
  },
  {
   "cell_type": "code",
   "execution_count": 54,
   "id": "e9ddff75",
   "metadata": {},
   "outputs": [
    {
     "data": {
      "text/plain": [
       "[4, 6, 78, 8, 78]"
      ]
     },
     "execution_count": 54,
     "metadata": {},
     "output_type": "execute_result"
    }
   ],
   "source": [
    "l =[4,5,6,7,78,8,78]\n",
    "list(filter(lambda a: a%2 == 0, l))"
   ]
  },
  {
   "cell_type": "code",
   "execution_count": 55,
   "id": "a1ae97bf",
   "metadata": {},
   "outputs": [],
   "source": [
    "# Reduce Function\n",
    "from functools import reduce"
   ]
  },
  {
   "cell_type": "code",
   "execution_count": 56,
   "id": "51fce9e0",
   "metadata": {},
   "outputs": [],
   "source": [
    "l = [3,4,5,6,7,8]"
   ]
  },
  {
   "cell_type": "code",
   "execution_count": 57,
   "id": "adba8901",
   "metadata": {},
   "outputs": [
    {
     "data": {
      "text/plain": [
       "33"
      ]
     },
     "execution_count": 57,
     "metadata": {},
     "output_type": "execute_result"
    }
   ],
   "source": [
    "sum(l) # one way to do summation"
   ]
  },
  {
   "cell_type": "code",
   "execution_count": 62,
   "id": "c2c0159b",
   "metadata": {},
   "outputs": [
    {
     "data": {
      "text/plain": [
       "33"
      ]
     },
     "execution_count": 62,
     "metadata": {},
     "output_type": "execute_result"
    }
   ],
   "source": [
    "reduce(lambda x, y: x+y, l)"
   ]
  },
  {
   "cell_type": "code",
   "execution_count": 63,
   "id": "684e29f7",
   "metadata": {},
   "outputs": [],
   "source": [
    "# Zip"
   ]
  },
  {
   "cell_type": "code",
   "execution_count": 64,
   "id": "8bf467da",
   "metadata": {},
   "outputs": [
    {
     "data": {
      "text/plain": [
       "[(1, 4), (2, 5), (3, 6), (4, 7), (5, 8)]"
      ]
     },
     "execution_count": 64,
     "metadata": {},
     "output_type": "execute_result"
    }
   ],
   "source": [
    "l = [1,2,3,4,5]\n",
    "l1 = [4,5,6,7,8]\n",
    "list(zip(l,l1))"
   ]
  },
  {
   "cell_type": "code",
   "execution_count": 65,
   "id": "6780a450",
   "metadata": {},
   "outputs": [
    {
     "data": {
      "text/plain": [
       "[(1, 4, 'a'), (2, 5, 'b'), (3, 6, 'c'), (4, 7, 'd'), (5, 8, 'e')]"
      ]
     },
     "execution_count": 65,
     "metadata": {},
     "output_type": "execute_result"
    }
   ],
   "source": [
    "l2 = ['a','b','c','d','e']\n",
    "list(zip(l,l1,l2))"
   ]
  },
  {
   "cell_type": "code",
   "execution_count": 66,
   "id": "846c928e",
   "metadata": {},
   "outputs": [
    {
     "data": {
      "text/plain": [
       "[(1, 4, 'a'), (2, 5, 'b'), (3, 6, 'c'), (4, 7, 'd')]"
      ]
     },
     "execution_count": 66,
     "metadata": {},
     "output_type": "execute_result"
    }
   ],
   "source": [
    "l3 = [1,2,3,4]\n",
    "list(zip(l3,l1,l2))"
   ]
  },
  {
   "cell_type": "code",
   "execution_count": null,
   "id": "80318281",
   "metadata": {},
   "outputs": [],
   "source": [
    "# Task for today:\n",
    "\n",
    "Dataset: \n",
    "1. Try to find a count of each and every word in a respective file - return a list of tuple with word and it's respective count\n",
    "Sample Ex: [('abc', 6), ('xyz', 3)]\n",
    "    \n",
    "2. Try to perform a reduce operation to get a count of all the word starting with same alphabet\n",
    "Sample Ex: [('a', 56), ('b', 34), ........]\n",
    "    \n",
    "3. Try to filter out all the words from dataset\n",
    "Ex: .001.abstract = abstract\n",
    "    \n",
    "4. Create a tuple set of all the records available in all the five files and then store it in sqlite db\n",
    "Hint: Using zip operation"
   ]
  },
  {
   "cell_type": "code",
   "execution_count": null,
   "id": "c876903e",
   "metadata": {},
   "outputs": [],
   "source": [
    "\"\"\"Task for today :\n",
    "  dataset -   https://archive.ics.uci.edu/ml/datasets/Bag+of+Words\n",
    "    \n",
    "    q1 = try to find out a count of each and every word in a respective file return a list of tuple with word and its respective count \n",
    "       sample example -  [('sudh', 6 ) , ('kumar',3)]\n",
    "    q2 = try to perform a reduce operation to get a count of all the word starting with same alphabet\n",
    "        sample examle = [(a,56) , (b,34),...........]\n",
    "    q3 = Try to filter out all the words from dataset . \n",
    "    \n",
    "    .001.abstract = abstract\n",
    "    =.002 = delete\n",
    "    q4 = create a tuple set of all the records avaialble in all the five file and then store it in sqllite DB . \n",
    "    (aah,>=,354,fdsf,wer)\n",
    "    \n",
    "    Top 10 will be able to get kids neuron \"\"\""
   ]
  }
 ],
 "metadata": {
  "kernelspec": {
   "display_name": "Python 3 (ipykernel)",
   "language": "python",
   "name": "python3"
  },
  "language_info": {
   "codemirror_mode": {
    "name": "ipython",
    "version": 3
   },
   "file_extension": ".py",
   "mimetype": "text/x-python",
   "name": "python",
   "nbconvert_exporter": "python",
   "pygments_lexer": "ipython3",
   "version": "3.9.7"
  }
 },
 "nbformat": 4,
 "nbformat_minor": 5
}
